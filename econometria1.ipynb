{
 "cells": [
  {
   "cell_type": "markdown",
   "metadata": {},
   "source": [
    "# ECONOMETRIZANDO - Parte 1:"
   ]
  },
  {
   "cell_type": "markdown",
   "metadata": {},
   "source": [
    "## SOBRE O PROBLEMA"
   ]
  },
  {
   "cell_type": "markdown",
   "metadata": {},
   "source": [
    "O motivo para esta análise é entender como a eficiência de produção influencia os custos e a produção das empresas em uma indústria competitiva. Cada empresa enfrenta diferentes preços para os fatores de produção, como trabalho e matéria-prima. Portanto, elas têm diferentes custos totais, médios e marginais.\n",
    "\n",
    "Para focarmos na conexão entre eficiência de produção e produto, assumimos que todas as empresas enfrentam mais ou menos os mesmos preços dos fatores. A única razão pela qual as curvas de custo médio (AC) e custo marginal (MC) diferem entre as empresas é a diferença na eficiência produtiva. Por exemplo, uma empresa pode ser menos eficiente do que outra devido a diferentes tecnologias, habilidades da força de trabalho ou gestão.\n",
    "\n",
    "As curvas de custo médio (AC) e custo marginal (MC) têm uma inclinação positiva para refletir retornos decrescentes de escala. Isso significa que, à medida que a produção aumenta, os custos médios e marginais tendem a aumentar também, devido a limitações como capacidade de fábrica, logística ou gerenciamento de pessoal.\n",
    "\n",
    "Para ilustrar, imagine duas empresas, A e B. Se a empresa A for menos eficiente que a empresa B, suas curvas de custo médio e marginal estarão à esquerda das da empresa B. Isso significa que, para produzir a mesma quantidade de produto, a empresa A terá custos médios e marginais mais altos do que a empresa B.\n",
    "\n",
    "Resumindo, a motivação econômica para essa análise é entender como a eficiência de produção afeta os custos e a produção das empresas em uma indústria competitiva, onde os preços dos fatores de produção são semelhantes para todas as empresas."
   ]
  },
  {
   "cell_type": "markdown",
   "metadata": {},
   "source": [
    "## SOBRE OS DADOS"
   ]
  },
  {
   "cell_type": "markdown",
   "metadata": {},
   "source": [
    "Utilização do Método de Mínimos Quadrados Ordinários (MCO): Retornos à Escala na Indústria Elétrica\n",
    "\n",
    "Este estudo tem suas raízes no trabalho pioneiro de Nerlove (1963), que abordou os retornos à escala em uma indústria elétrica sujeita a regulamentação. Nerlove forneceu uma descrição detalhada da indústria elétrica, destacando os seguintes pontos:\n",
    "\n",
    "1. Os fornecedores/geradores de eletricidade geralmente operam como monopólios locais privados.\n",
    "2. Os preços da eletricidade para os consumidores finais são fixados por uma autoridade reguladora.\n",
    "3. Os preços dos fatores de produção são estabelecidos e não podem ser alterados pelas empresas no curto prazo, devido a contratos de longo prazo, como os contratos de trabalho.\n",
    "\n",
    "Quanto aos dados, eles abrangem 145 empresas localizadas em 44 estados dos EUA no ano de 1955, representando cerca de 80% da produção total de eletricidade na época.\n",
    "\n",
    "Em termos dos métodos de produção de eletricidade, Nerlove identificou três principais:\n",
    "\n",
    "1. Motores de combustão interna.\n",
    "2. Hidroelétricas.\n",
    "3. Termoelétricas.\n",
    "\n",
    "Ele observou que, na década de 1950, cerca de 70% da eletricidade era gerada por usinas termoelétricas. O carvão era o principal combustível utilizado, seguido pelo petróleo e gasolina.\n",
    "\n",
    "\n",
    "As variáveis consideradas são: custos totais, preços dos fatores de produção (salários, preços de combustíveis, aluguel ou preço do capital) e produto. Embora as empresas sejam proprietárias do capital, no modelo, presume-se que elas se comportem como se estivessem pagando um aluguel pelo capital, então é atribuído um preço ao custo do capital.\n",
    "\n",
    "No entanto, para obter mais detalhes, consulte o documento original de Nerlove, onde a construção da base de dados é descrita com maior precisão. Os dados de produção, combustíveis e custos trabalhistas foram obtidos da Federal Power Commission (1956)."
   ]
  },
  {
   "cell_type": "markdown",
   "metadata": {},
   "source": [
    "https://econpapers.repec.org/paper/bocbocins/nerlove63.htm"
   ]
  },
  {
   "cell_type": "markdown",
   "metadata": {},
   "source": [
    "### Bibliotecas"
   ]
  },
  {
   "cell_type": "code",
   "execution_count": 213,
   "metadata": {},
   "outputs": [],
   "source": [
    "import pyreadstat  # Biblioteca para ler formato .dta\n",
    "import pandas as pd  # Biblioteca para manipulação de dados\n",
    "import matplotlib  # Biblioteca para plotagem\n",
    "import seaborn as sns\n",
    "from matplotlib import pyplot as plt  # Biblioteca para plotagem\n",
    "import statsmodels.api as sm  # Biblioteca para análise estatística\n",
    "from IPython.display import Image  # Para imagens\n",
    "import numpy as np  # Algumas funções matemáticas\n",
    "import statsmodels.api as sm  # Para funções de regressão e outros\n",
    "from statsmodels.formula.api import ols  # Para testes de hipóteses\n",
    "import warnings\n",
    "warnings.filterwarnings('ignore')"
   ]
  },
  {
   "cell_type": "markdown",
   "metadata": {},
   "source": [
    "### Dados"
   ]
  },
  {
   "cell_type": "code",
   "execution_count": 214,
   "metadata": {},
   "outputs": [
    {
     "data": {
      "text/html": [
       "<div>\n",
       "<style scoped>\n",
       "    .dataframe tbody tr th:only-of-type {\n",
       "        vertical-align: middle;\n",
       "    }\n",
       "\n",
       "    .dataframe tbody tr th {\n",
       "        vertical-align: top;\n",
       "    }\n",
       "\n",
       "    .dataframe thead th {\n",
       "        text-align: right;\n",
       "    }\n",
       "</style>\n",
       "<table border=\"1\" class=\"dataframe\">\n",
       "  <thead>\n",
       "    <tr style=\"text-align: right;\">\n",
       "      <th></th>\n",
       "      <th>totcost</th>\n",
       "      <th>output</th>\n",
       "      <th>plabor</th>\n",
       "      <th>pfuel</th>\n",
       "      <th>pkap</th>\n",
       "    </tr>\n",
       "  </thead>\n",
       "  <tbody>\n",
       "    <tr>\n",
       "      <th>0</th>\n",
       "      <td>0.082000</td>\n",
       "      <td>2.0</td>\n",
       "      <td>2.09</td>\n",
       "      <td>17.900000</td>\n",
       "      <td>183.0</td>\n",
       "    </tr>\n",
       "    <tr>\n",
       "      <th>1</th>\n",
       "      <td>0.661000</td>\n",
       "      <td>3.0</td>\n",
       "      <td>2.05</td>\n",
       "      <td>35.099998</td>\n",
       "      <td>174.0</td>\n",
       "    </tr>\n",
       "    <tr>\n",
       "      <th>2</th>\n",
       "      <td>0.990000</td>\n",
       "      <td>4.0</td>\n",
       "      <td>2.05</td>\n",
       "      <td>35.099998</td>\n",
       "      <td>171.0</td>\n",
       "    </tr>\n",
       "    <tr>\n",
       "      <th>3</th>\n",
       "      <td>0.315000</td>\n",
       "      <td>4.0</td>\n",
       "      <td>1.83</td>\n",
       "      <td>32.200001</td>\n",
       "      <td>166.0</td>\n",
       "    </tr>\n",
       "    <tr>\n",
       "      <th>4</th>\n",
       "      <td>0.197000</td>\n",
       "      <td>5.0</td>\n",
       "      <td>2.12</td>\n",
       "      <td>28.600000</td>\n",
       "      <td>233.0</td>\n",
       "    </tr>\n",
       "    <tr>\n",
       "      <th>...</th>\n",
       "      <td>...</td>\n",
       "      <td>...</td>\n",
       "      <td>...</td>\n",
       "      <td>...</td>\n",
       "      <td>...</td>\n",
       "    </tr>\n",
       "    <tr>\n",
       "      <th>140</th>\n",
       "      <td>44.894001</td>\n",
       "      <td>9956.0</td>\n",
       "      <td>1.68</td>\n",
       "      <td>28.799999</td>\n",
       "      <td>203.0</td>\n",
       "    </tr>\n",
       "    <tr>\n",
       "      <th>141</th>\n",
       "      <td>67.120003</td>\n",
       "      <td>11477.0</td>\n",
       "      <td>2.24</td>\n",
       "      <td>26.500000</td>\n",
       "      <td>151.0</td>\n",
       "    </tr>\n",
       "    <tr>\n",
       "      <th>142</th>\n",
       "      <td>73.050003</td>\n",
       "      <td>11796.0</td>\n",
       "      <td>2.12</td>\n",
       "      <td>28.600000</td>\n",
       "      <td>148.0</td>\n",
       "    </tr>\n",
       "    <tr>\n",
       "      <th>143</th>\n",
       "      <td>139.421997</td>\n",
       "      <td>14359.0</td>\n",
       "      <td>2.31</td>\n",
       "      <td>33.500000</td>\n",
       "      <td>212.0</td>\n",
       "    </tr>\n",
       "    <tr>\n",
       "      <th>144</th>\n",
       "      <td>119.939003</td>\n",
       "      <td>16719.0</td>\n",
       "      <td>2.30</td>\n",
       "      <td>23.600000</td>\n",
       "      <td>162.0</td>\n",
       "    </tr>\n",
       "  </tbody>\n",
       "</table>\n",
       "<p>145 rows × 5 columns</p>\n",
       "</div>"
      ],
      "text/plain": [
       "        totcost   output  plabor      pfuel   pkap\n",
       "0      0.082000      2.0    2.09  17.900000  183.0\n",
       "1      0.661000      3.0    2.05  35.099998  174.0\n",
       "2      0.990000      4.0    2.05  35.099998  171.0\n",
       "3      0.315000      4.0    1.83  32.200001  166.0\n",
       "4      0.197000      5.0    2.12  28.600000  233.0\n",
       "..          ...      ...     ...        ...    ...\n",
       "140   44.894001   9956.0    1.68  28.799999  203.0\n",
       "141   67.120003  11477.0    2.24  26.500000  151.0\n",
       "142   73.050003  11796.0    2.12  28.600000  148.0\n",
       "143  139.421997  14359.0    2.31  33.500000  212.0\n",
       "144  119.939003  16719.0    2.30  23.600000  162.0\n",
       "\n",
       "[145 rows x 5 columns]"
      ]
     },
     "execution_count": 214,
     "metadata": {},
     "output_type": "execute_result"
    }
   ],
   "source": [
    "df = pd.read_stata('https://econpapers.repec.org/scripts/redir.pf?u=http%3A%2F%2Ffmwww.bc.edu%2Fec-p%2Fdata%2Fhayashi%2Fnerlove63.dta;h=repec:boc:bocins:nerlove63')\n",
    "df"
   ]
  },
  {
   "cell_type": "markdown",
   "metadata": {},
   "source": [
    "### Análise Exploratória"
   ]
  },
  {
   "cell_type": "code",
   "execution_count": 215,
   "metadata": {},
   "outputs": [
    {
     "name": "stdout",
     "output_type": "stream",
     "text": [
      "<class 'pandas.core.frame.DataFrame'>\n",
      "RangeIndex: 145 entries, 0 to 144\n",
      "Data columns (total 5 columns):\n",
      " #   Column   Non-Null Count  Dtype  \n",
      "---  ------   --------------  -----  \n",
      " 0   totcost  145 non-null    float32\n",
      " 1   output   145 non-null    float32\n",
      " 2   plabor   145 non-null    float32\n",
      " 3   pfuel    145 non-null    float32\n",
      " 4   pkap     145 non-null    float32\n",
      "dtypes: float32(5)\n",
      "memory usage: 3.0 KB\n"
     ]
    }
   ],
   "source": [
    "# Tipos de dados\n",
    "df.info()"
   ]
  },
  {
   "cell_type": "code",
   "execution_count": 216,
   "metadata": {},
   "outputs": [
    {
     "data": {
      "text/plain": [
       "totcost    0\n",
       "output     0\n",
       "plabor     0\n",
       "pfuel      0\n",
       "pkap       0\n",
       "dtype: int64"
      ]
     },
     "execution_count": 216,
     "metadata": {},
     "output_type": "execute_result"
    }
   ],
   "source": [
    "# Verificando se existem valores nulos\n",
    "df.isnull().sum()"
   ]
  },
  {
   "cell_type": "code",
   "execution_count": 217,
   "metadata": {},
   "outputs": [
    {
     "data": {
      "text/plain": [
       "0"
      ]
     },
     "execution_count": 217,
     "metadata": {},
     "output_type": "execute_result"
    }
   ],
   "source": [
    "# Verificando se existem valores duplicados\n",
    "df.duplicated().sum()"
   ]
  },
  {
   "cell_type": "code",
   "execution_count": 218,
   "metadata": {},
   "outputs": [
    {
     "data": {
      "text/html": [
       "<div>\n",
       "<style scoped>\n",
       "    .dataframe tbody tr th:only-of-type {\n",
       "        vertical-align: middle;\n",
       "    }\n",
       "\n",
       "    .dataframe tbody tr th {\n",
       "        vertical-align: top;\n",
       "    }\n",
       "\n",
       "    .dataframe thead th {\n",
       "        text-align: right;\n",
       "    }\n",
       "</style>\n",
       "<table border=\"1\" class=\"dataframe\">\n",
       "  <thead>\n",
       "    <tr style=\"text-align: right;\">\n",
       "      <th></th>\n",
       "      <th>totcost</th>\n",
       "      <th>output</th>\n",
       "      <th>plabor</th>\n",
       "      <th>pfuel</th>\n",
       "      <th>pkap</th>\n",
       "    </tr>\n",
       "  </thead>\n",
       "  <tbody>\n",
       "    <tr>\n",
       "      <th>count</th>\n",
       "      <td>145.00</td>\n",
       "      <td>145.00</td>\n",
       "      <td>145.00</td>\n",
       "      <td>145.00</td>\n",
       "      <td>145.00</td>\n",
       "    </tr>\n",
       "    <tr>\n",
       "      <th>mean</th>\n",
       "      <td>12.98</td>\n",
       "      <td>2133.08</td>\n",
       "      <td>1.97</td>\n",
       "      <td>26.18</td>\n",
       "      <td>174.50</td>\n",
       "    </tr>\n",
       "    <tr>\n",
       "      <th>std</th>\n",
       "      <td>19.79</td>\n",
       "      <td>2931.94</td>\n",
       "      <td>0.24</td>\n",
       "      <td>7.88</td>\n",
       "      <td>18.21</td>\n",
       "    </tr>\n",
       "    <tr>\n",
       "      <th>min</th>\n",
       "      <td>0.08</td>\n",
       "      <td>2.00</td>\n",
       "      <td>1.45</td>\n",
       "      <td>10.30</td>\n",
       "      <td>138.00</td>\n",
       "    </tr>\n",
       "    <tr>\n",
       "      <th>25%</th>\n",
       "      <td>2.38</td>\n",
       "      <td>279.00</td>\n",
       "      <td>1.76</td>\n",
       "      <td>21.30</td>\n",
       "      <td>162.00</td>\n",
       "    </tr>\n",
       "    <tr>\n",
       "      <th>50%</th>\n",
       "      <td>6.75</td>\n",
       "      <td>1109.00</td>\n",
       "      <td>2.04</td>\n",
       "      <td>26.90</td>\n",
       "      <td>170.00</td>\n",
       "    </tr>\n",
       "    <tr>\n",
       "      <th>75%</th>\n",
       "      <td>14.13</td>\n",
       "      <td>2507.00</td>\n",
       "      <td>2.19</td>\n",
       "      <td>32.20</td>\n",
       "      <td>183.00</td>\n",
       "    </tr>\n",
       "    <tr>\n",
       "      <th>max</th>\n",
       "      <td>139.42</td>\n",
       "      <td>16719.00</td>\n",
       "      <td>2.32</td>\n",
       "      <td>42.80</td>\n",
       "      <td>233.00</td>\n",
       "    </tr>\n",
       "  </tbody>\n",
       "</table>\n",
       "</div>"
      ],
      "text/plain": [
       "       totcost    output  plabor   pfuel    pkap\n",
       "count   145.00    145.00  145.00  145.00  145.00\n",
       "mean     12.98   2133.08    1.97   26.18  174.50\n",
       "std      19.79   2931.94    0.24    7.88   18.21\n",
       "min       0.08      2.00    1.45   10.30  138.00\n",
       "25%       2.38    279.00    1.76   21.30  162.00\n",
       "50%       6.75   1109.00    2.04   26.90  170.00\n",
       "75%      14.13   2507.00    2.19   32.20  183.00\n",
       "max     139.42  16719.00    2.32   42.80  233.00"
      ]
     },
     "execution_count": 218,
     "metadata": {},
     "output_type": "execute_result"
    }
   ],
   "source": [
    "# Arredondando as estatístias descritivas\n",
    "df.describe().round(2)"
   ]
  },
  {
   "cell_type": "markdown",
   "metadata": {},
   "source": [
    "Sempre é interessante analisarmos como cada variável está distribuída e no caso desse conjunto de dados, temos apenas variáveis numéricas."
   ]
  },
  {
   "cell_type": "code",
   "execution_count": 219,
   "metadata": {},
   "outputs": [
    {
     "data": {
      "application/vnd.plotly.v1+json": {
       "config": {
        "plotlyServerURL": "https://plot.ly"
       },
       "data": [
        {
         "marker": {
          "color": "#1f77b4"
         },
         "name": "totcost",
         "type": "bar",
         "x": [
          0.0820000022649765,
          7.048999786376953,
          14.015999794006348,
          20.982999801635742,
          27.94999885559082,
          34.91699981689453,
          41.88399887084961,
          48.85099792480469,
          55.817996978759766,
          62.78499984741211,
          69.75199890136719,
          76.71900177001953,
          83.68599700927734,
          90.65299987792969,
          97.6199951171875,
          104.58699798583984,
          111.55400085449219,
          118.52099609375,
          125.48799896240234,
          132.4550018310547
         ],
         "xaxis": "x",
         "y": [
          77,
          31,
          11,
          8,
          7,
          3,
          2,
          0,
          0,
          2,
          2,
          0,
          0,
          0,
          0,
          0,
          0,
          1,
          0,
          1
         ],
         "yaxis": "y"
        },
        {
         "marker": {
          "color": "#ff7f0e"
         },
         "name": "output",
         "type": "bar",
         "x": [
          2,
          837.8499755859375,
          1673.699951171875,
          2509.550048828125,
          3345.39990234375,
          4181.25,
          5017.10009765625,
          5852.9501953125,
          6688.7998046875,
          7524.64990234375,
          8360.5,
          9196.349609375,
          10032.2001953125,
          10868.0498046875,
          11703.900390625,
          12539.75,
          13375.599609375,
          14211.4501953125,
          15047.2998046875,
          15883.150390625
         ],
         "xaxis": "x2",
         "y": [
          63,
          28,
          18,
          8,
          5,
          4,
          5,
          3,
          1,
          1,
          3,
          2,
          0,
          1,
          1,
          0,
          0,
          1,
          0,
          1
         ],
         "yaxis": "y2"
        },
        {
         "marker": {
          "color": "#2ca02c"
         },
         "name": "plabor",
         "type": "bar",
         "x": [
          1.4500000476837158,
          1.493499994277954,
          1.537000060081482,
          1.5805000066757202,
          1.624000072479248,
          1.6675000190734863,
          1.7109999656677246,
          1.7545000314712524,
          1.7979999780654907,
          1.8415000438690186,
          1.8849999904632568,
          1.9284999370574951,
          1.972000002861023,
          2.015500068664551,
          2.059000015258789,
          2.1024999618530273,
          2.1459999084472656,
          2.189499855041504,
          2.2330000400543213,
          2.2764999866485596
         ],
         "xaxis": "x3",
         "y": [
          2,
          3,
          4,
          2,
          2,
          12,
          4,
          15,
          8,
          2,
          10,
          0,
          6,
          16,
          7,
          15,
          0,
          13,
          4,
          20
         ],
         "yaxis": "y3"
        },
        {
         "marker": {
          "color": "#d62728"
         },
         "name": "pfuel",
         "type": "bar",
         "x": [
          10.300000190734863,
          11.925000190734863,
          13.550000190734863,
          15.175000190734863,
          16.799999237060547,
          18.424999237060547,
          20.049999237060547,
          21.674999237060547,
          23.299999237060547,
          24.924999237060547,
          26.549999237060547,
          28.174999237060547,
          29.799999237060547,
          31.424999237060547,
          33.04999923706055,
          34.67499923706055,
          36.29999923706055,
          37.92499923706055,
          39.54999923706055,
          41.17499923706055
         ],
         "xaxis": "x4",
         "y": [
          13,
          2,
          1,
          0,
          8,
          1,
          13,
          10,
          16,
          6,
          8,
          21,
          5,
          5,
          12,
          18,
          0,
          1,
          2,
          3
         ],
         "yaxis": "y4"
        },
        {
         "marker": {
          "color": "#9467bd"
         },
         "name": "pkap",
         "type": "bar",
         "x": [
          138,
          142.75,
          147.5,
          152.25,
          157,
          161.75,
          166.5,
          171.25,
          176,
          180.75,
          185.5,
          190.25,
          195,
          199.75,
          204.5,
          209.25,
          214,
          218.75,
          223.5,
          228.25
         ],
         "xaxis": "x5",
         "y": [
          1,
          2,
          4,
          4,
          25,
          22,
          20,
          8,
          17,
          10,
          7,
          1,
          9,
          4,
          2,
          3,
          2,
          0,
          3,
          1
         ],
         "yaxis": "y5"
        }
       ],
       "layout": {
        "annotations": [
         {
          "font": {
           "size": 16
          },
          "showarrow": false,
          "text": "Autor: Jonatas A. Liberato",
          "x": 0.88,
          "xanchor": "center",
          "xref": "paper",
          "y": -0.1,
          "yanchor": "bottom",
          "yref": "paper"
         },
         {
          "font": {
           "size": 16
          },
          "showarrow": false,
          "text": "Autor: Jonatas A. Liberato",
          "x": 0.88,
          "xanchor": "center",
          "xref": "paper",
          "y": -0.1,
          "yanchor": "bottom",
          "yref": "paper"
         },
         {
          "font": {
           "size": 16
          },
          "showarrow": false,
          "text": "Autor: Jonatas A. Liberato",
          "x": 0.88,
          "xanchor": "center",
          "xref": "paper",
          "y": -0.1,
          "yanchor": "bottom",
          "yref": "paper"
         },
         {
          "font": {
           "size": 16
          },
          "showarrow": false,
          "text": "Autor: Jonatas A. Liberato",
          "x": 0.88,
          "xanchor": "center",
          "xref": "paper",
          "y": -0.1,
          "yanchor": "bottom",
          "yref": "paper"
         },
         {
          "font": {
           "size": 16
          },
          "showarrow": false,
          "text": "Autor: Jonatas A. Liberato",
          "x": 0.88,
          "xanchor": "center",
          "xref": "paper",
          "y": -0.1,
          "yanchor": "bottom",
          "yref": "paper"
         }
        ],
        "height": 800,
        "legend": {
         "orientation": "h",
         "x": 1,
         "xanchor": "right",
         "y": 1.05,
         "yanchor": "top"
        },
        "template": {
         "data": {
          "bar": [
           {
            "error_x": {
             "color": "#2a3f5f"
            },
            "error_y": {
             "color": "#2a3f5f"
            },
            "marker": {
             "line": {
              "color": "#E5ECF6",
              "width": 0.5
             },
             "pattern": {
              "fillmode": "overlay",
              "size": 10,
              "solidity": 0.2
             }
            },
            "type": "bar"
           }
          ],
          "barpolar": [
           {
            "marker": {
             "line": {
              "color": "#E5ECF6",
              "width": 0.5
             },
             "pattern": {
              "fillmode": "overlay",
              "size": 10,
              "solidity": 0.2
             }
            },
            "type": "barpolar"
           }
          ],
          "carpet": [
           {
            "aaxis": {
             "endlinecolor": "#2a3f5f",
             "gridcolor": "white",
             "linecolor": "white",
             "minorgridcolor": "white",
             "startlinecolor": "#2a3f5f"
            },
            "baxis": {
             "endlinecolor": "#2a3f5f",
             "gridcolor": "white",
             "linecolor": "white",
             "minorgridcolor": "white",
             "startlinecolor": "#2a3f5f"
            },
            "type": "carpet"
           }
          ],
          "choropleth": [
           {
            "colorbar": {
             "outlinewidth": 0,
             "ticks": ""
            },
            "type": "choropleth"
           }
          ],
          "contour": [
           {
            "colorbar": {
             "outlinewidth": 0,
             "ticks": ""
            },
            "colorscale": [
             [
              0,
              "#0d0887"
             ],
             [
              0.1111111111111111,
              "#46039f"
             ],
             [
              0.2222222222222222,
              "#7201a8"
             ],
             [
              0.3333333333333333,
              "#9c179e"
             ],
             [
              0.4444444444444444,
              "#bd3786"
             ],
             [
              0.5555555555555556,
              "#d8576b"
             ],
             [
              0.6666666666666666,
              "#ed7953"
             ],
             [
              0.7777777777777778,
              "#fb9f3a"
             ],
             [
              0.8888888888888888,
              "#fdca26"
             ],
             [
              1,
              "#f0f921"
             ]
            ],
            "type": "contour"
           }
          ],
          "contourcarpet": [
           {
            "colorbar": {
             "outlinewidth": 0,
             "ticks": ""
            },
            "type": "contourcarpet"
           }
          ],
          "heatmap": [
           {
            "colorbar": {
             "outlinewidth": 0,
             "ticks": ""
            },
            "colorscale": [
             [
              0,
              "#0d0887"
             ],
             [
              0.1111111111111111,
              "#46039f"
             ],
             [
              0.2222222222222222,
              "#7201a8"
             ],
             [
              0.3333333333333333,
              "#9c179e"
             ],
             [
              0.4444444444444444,
              "#bd3786"
             ],
             [
              0.5555555555555556,
              "#d8576b"
             ],
             [
              0.6666666666666666,
              "#ed7953"
             ],
             [
              0.7777777777777778,
              "#fb9f3a"
             ],
             [
              0.8888888888888888,
              "#fdca26"
             ],
             [
              1,
              "#f0f921"
             ]
            ],
            "type": "heatmap"
           }
          ],
          "heatmapgl": [
           {
            "colorbar": {
             "outlinewidth": 0,
             "ticks": ""
            },
            "colorscale": [
             [
              0,
              "#0d0887"
             ],
             [
              0.1111111111111111,
              "#46039f"
             ],
             [
              0.2222222222222222,
              "#7201a8"
             ],
             [
              0.3333333333333333,
              "#9c179e"
             ],
             [
              0.4444444444444444,
              "#bd3786"
             ],
             [
              0.5555555555555556,
              "#d8576b"
             ],
             [
              0.6666666666666666,
              "#ed7953"
             ],
             [
              0.7777777777777778,
              "#fb9f3a"
             ],
             [
              0.8888888888888888,
              "#fdca26"
             ],
             [
              1,
              "#f0f921"
             ]
            ],
            "type": "heatmapgl"
           }
          ],
          "histogram": [
           {
            "marker": {
             "pattern": {
              "fillmode": "overlay",
              "size": 10,
              "solidity": 0.2
             }
            },
            "type": "histogram"
           }
          ],
          "histogram2d": [
           {
            "colorbar": {
             "outlinewidth": 0,
             "ticks": ""
            },
            "colorscale": [
             [
              0,
              "#0d0887"
             ],
             [
              0.1111111111111111,
              "#46039f"
             ],
             [
              0.2222222222222222,
              "#7201a8"
             ],
             [
              0.3333333333333333,
              "#9c179e"
             ],
             [
              0.4444444444444444,
              "#bd3786"
             ],
             [
              0.5555555555555556,
              "#d8576b"
             ],
             [
              0.6666666666666666,
              "#ed7953"
             ],
             [
              0.7777777777777778,
              "#fb9f3a"
             ],
             [
              0.8888888888888888,
              "#fdca26"
             ],
             [
              1,
              "#f0f921"
             ]
            ],
            "type": "histogram2d"
           }
          ],
          "histogram2dcontour": [
           {
            "colorbar": {
             "outlinewidth": 0,
             "ticks": ""
            },
            "colorscale": [
             [
              0,
              "#0d0887"
             ],
             [
              0.1111111111111111,
              "#46039f"
             ],
             [
              0.2222222222222222,
              "#7201a8"
             ],
             [
              0.3333333333333333,
              "#9c179e"
             ],
             [
              0.4444444444444444,
              "#bd3786"
             ],
             [
              0.5555555555555556,
              "#d8576b"
             ],
             [
              0.6666666666666666,
              "#ed7953"
             ],
             [
              0.7777777777777778,
              "#fb9f3a"
             ],
             [
              0.8888888888888888,
              "#fdca26"
             ],
             [
              1,
              "#f0f921"
             ]
            ],
            "type": "histogram2dcontour"
           }
          ],
          "mesh3d": [
           {
            "colorbar": {
             "outlinewidth": 0,
             "ticks": ""
            },
            "type": "mesh3d"
           }
          ],
          "parcoords": [
           {
            "line": {
             "colorbar": {
              "outlinewidth": 0,
              "ticks": ""
             }
            },
            "type": "parcoords"
           }
          ],
          "pie": [
           {
            "automargin": true,
            "type": "pie"
           }
          ],
          "scatter": [
           {
            "fillpattern": {
             "fillmode": "overlay",
             "size": 10,
             "solidity": 0.2
            },
            "type": "scatter"
           }
          ],
          "scatter3d": [
           {
            "line": {
             "colorbar": {
              "outlinewidth": 0,
              "ticks": ""
             }
            },
            "marker": {
             "colorbar": {
              "outlinewidth": 0,
              "ticks": ""
             }
            },
            "type": "scatter3d"
           }
          ],
          "scattercarpet": [
           {
            "marker": {
             "colorbar": {
              "outlinewidth": 0,
              "ticks": ""
             }
            },
            "type": "scattercarpet"
           }
          ],
          "scattergeo": [
           {
            "marker": {
             "colorbar": {
              "outlinewidth": 0,
              "ticks": ""
             }
            },
            "type": "scattergeo"
           }
          ],
          "scattergl": [
           {
            "marker": {
             "colorbar": {
              "outlinewidth": 0,
              "ticks": ""
             }
            },
            "type": "scattergl"
           }
          ],
          "scattermapbox": [
           {
            "marker": {
             "colorbar": {
              "outlinewidth": 0,
              "ticks": ""
             }
            },
            "type": "scattermapbox"
           }
          ],
          "scatterpolar": [
           {
            "marker": {
             "colorbar": {
              "outlinewidth": 0,
              "ticks": ""
             }
            },
            "type": "scatterpolar"
           }
          ],
          "scatterpolargl": [
           {
            "marker": {
             "colorbar": {
              "outlinewidth": 0,
              "ticks": ""
             }
            },
            "type": "scatterpolargl"
           }
          ],
          "scatterternary": [
           {
            "marker": {
             "colorbar": {
              "outlinewidth": 0,
              "ticks": ""
             }
            },
            "type": "scatterternary"
           }
          ],
          "surface": [
           {
            "colorbar": {
             "outlinewidth": 0,
             "ticks": ""
            },
            "colorscale": [
             [
              0,
              "#0d0887"
             ],
             [
              0.1111111111111111,
              "#46039f"
             ],
             [
              0.2222222222222222,
              "#7201a8"
             ],
             [
              0.3333333333333333,
              "#9c179e"
             ],
             [
              0.4444444444444444,
              "#bd3786"
             ],
             [
              0.5555555555555556,
              "#d8576b"
             ],
             [
              0.6666666666666666,
              "#ed7953"
             ],
             [
              0.7777777777777778,
              "#fb9f3a"
             ],
             [
              0.8888888888888888,
              "#fdca26"
             ],
             [
              1,
              "#f0f921"
             ]
            ],
            "type": "surface"
           }
          ],
          "table": [
           {
            "cells": {
             "fill": {
              "color": "#EBF0F8"
             },
             "line": {
              "color": "white"
             }
            },
            "header": {
             "fill": {
              "color": "#C8D4E3"
             },
             "line": {
              "color": "white"
             }
            },
            "type": "table"
           }
          ]
         },
         "layout": {
          "annotationdefaults": {
           "arrowcolor": "#2a3f5f",
           "arrowhead": 0,
           "arrowwidth": 1
          },
          "autotypenumbers": "strict",
          "coloraxis": {
           "colorbar": {
            "outlinewidth": 0,
            "ticks": ""
           }
          },
          "colorscale": {
           "diverging": [
            [
             0,
             "#8e0152"
            ],
            [
             0.1,
             "#c51b7d"
            ],
            [
             0.2,
             "#de77ae"
            ],
            [
             0.3,
             "#f1b6da"
            ],
            [
             0.4,
             "#fde0ef"
            ],
            [
             0.5,
             "#f7f7f7"
            ],
            [
             0.6,
             "#e6f5d0"
            ],
            [
             0.7,
             "#b8e186"
            ],
            [
             0.8,
             "#7fbc41"
            ],
            [
             0.9,
             "#4d9221"
            ],
            [
             1,
             "#276419"
            ]
           ],
           "sequential": [
            [
             0,
             "#0d0887"
            ],
            [
             0.1111111111111111,
             "#46039f"
            ],
            [
             0.2222222222222222,
             "#7201a8"
            ],
            [
             0.3333333333333333,
             "#9c179e"
            ],
            [
             0.4444444444444444,
             "#bd3786"
            ],
            [
             0.5555555555555556,
             "#d8576b"
            ],
            [
             0.6666666666666666,
             "#ed7953"
            ],
            [
             0.7777777777777778,
             "#fb9f3a"
            ],
            [
             0.8888888888888888,
             "#fdca26"
            ],
            [
             1,
             "#f0f921"
            ]
           ],
           "sequentialminus": [
            [
             0,
             "#0d0887"
            ],
            [
             0.1111111111111111,
             "#46039f"
            ],
            [
             0.2222222222222222,
             "#7201a8"
            ],
            [
             0.3333333333333333,
             "#9c179e"
            ],
            [
             0.4444444444444444,
             "#bd3786"
            ],
            [
             0.5555555555555556,
             "#d8576b"
            ],
            [
             0.6666666666666666,
             "#ed7953"
            ],
            [
             0.7777777777777778,
             "#fb9f3a"
            ],
            [
             0.8888888888888888,
             "#fdca26"
            ],
            [
             1,
             "#f0f921"
            ]
           ]
          },
          "colorway": [
           "#636efa",
           "#EF553B",
           "#00cc96",
           "#ab63fa",
           "#FFA15A",
           "#19d3f3",
           "#FF6692",
           "#B6E880",
           "#FF97FF",
           "#FECB52"
          ],
          "font": {
           "color": "#2a3f5f"
          },
          "geo": {
           "bgcolor": "white",
           "lakecolor": "white",
           "landcolor": "#E5ECF6",
           "showlakes": true,
           "showland": true,
           "subunitcolor": "white"
          },
          "hoverlabel": {
           "align": "left"
          },
          "hovermode": "closest",
          "mapbox": {
           "style": "light"
          },
          "paper_bgcolor": "white",
          "plot_bgcolor": "#E5ECF6",
          "polar": {
           "angularaxis": {
            "gridcolor": "white",
            "linecolor": "white",
            "ticks": ""
           },
           "bgcolor": "#E5ECF6",
           "radialaxis": {
            "gridcolor": "white",
            "linecolor": "white",
            "ticks": ""
           }
          },
          "scene": {
           "xaxis": {
            "backgroundcolor": "#E5ECF6",
            "gridcolor": "white",
            "gridwidth": 2,
            "linecolor": "white",
            "showbackground": true,
            "ticks": "",
            "zerolinecolor": "white"
           },
           "yaxis": {
            "backgroundcolor": "#E5ECF6",
            "gridcolor": "white",
            "gridwidth": 2,
            "linecolor": "white",
            "showbackground": true,
            "ticks": "",
            "zerolinecolor": "white"
           },
           "zaxis": {
            "backgroundcolor": "#E5ECF6",
            "gridcolor": "white",
            "gridwidth": 2,
            "linecolor": "white",
            "showbackground": true,
            "ticks": "",
            "zerolinecolor": "white"
           }
          },
          "shapedefaults": {
           "line": {
            "color": "#2a3f5f"
           }
          },
          "ternary": {
           "aaxis": {
            "gridcolor": "white",
            "linecolor": "white",
            "ticks": ""
           },
           "baxis": {
            "gridcolor": "white",
            "linecolor": "white",
            "ticks": ""
           },
           "bgcolor": "#E5ECF6",
           "caxis": {
            "gridcolor": "white",
            "linecolor": "white",
            "ticks": ""
           }
          },
          "title": {
           "x": 0.05
          },
          "xaxis": {
           "automargin": true,
           "gridcolor": "white",
           "linecolor": "white",
           "ticks": "",
           "title": {
            "standoff": 15
           },
           "zerolinecolor": "white",
           "zerolinewidth": 2
          },
          "yaxis": {
           "automargin": true,
           "gridcolor": "white",
           "linecolor": "white",
           "ticks": "",
           "title": {
            "standoff": 15
           },
           "zerolinecolor": "white",
           "zerolinewidth": 2
          }
         }
        },
        "title": {
         "font": {
          "size": 16
         },
         "text": "Distribuição dos Dados",
         "x": 0.5,
         "y": 0.98
        },
        "width": 1000,
        "xaxis": {
         "anchor": "y",
         "domain": [
          0,
          0.2888888888888889
         ]
        },
        "xaxis2": {
         "anchor": "y2",
         "domain": [
          0.35555555555555557,
          0.6444444444444445
         ]
        },
        "xaxis3": {
         "anchor": "y3",
         "domain": [
          0.7111111111111111,
          1
         ]
        },
        "xaxis4": {
         "anchor": "y4",
         "domain": [
          0,
          0.2888888888888889
         ]
        },
        "xaxis5": {
         "anchor": "y5",
         "domain": [
          0.35555555555555557,
          0.6444444444444445
         ]
        },
        "xaxis6": {
         "anchor": "y6",
         "domain": [
          0.7111111111111111,
          1
         ]
        },
        "yaxis": {
         "anchor": "x",
         "domain": [
          0.625,
          1
         ]
        },
        "yaxis2": {
         "anchor": "x2",
         "domain": [
          0.625,
          1
         ]
        },
        "yaxis3": {
         "anchor": "x3",
         "domain": [
          0.625,
          1
         ]
        },
        "yaxis4": {
         "anchor": "x4",
         "domain": [
          0,
          0.375
         ]
        },
        "yaxis5": {
         "anchor": "x5",
         "domain": [
          0,
          0.375
         ]
        },
        "yaxis6": {
         "anchor": "x6",
         "domain": [
          0,
          0.375
         ]
        }
       }
      }
     },
     "metadata": {},
     "output_type": "display_data"
    }
   ],
   "source": [
    "import plotly.graph_objs as go\n",
    "from plotly.subplots import make_subplots\n",
    "\n",
    "# Criar um subplot com o número correto de linhas e colunas\n",
    "fig = make_subplots(rows=2, cols=3, subplot_titles=df.columns)\n",
    "\n",
    "# Lista de cores mais adequadas para pessoas com miopia\n",
    "cores_miopia = ['#1f77b4', '#ff7f0e', '#2ca02c', '#d62728', '#9467bd', '#8c564b']\n",
    "\n",
    "# Adicionar histogramas para cada coluna do DataFrame\n",
    "for i, col in enumerate(df.columns):\n",
    "    # Calcular o histograma\n",
    "    hist, bins = np.histogram(df[col], bins=20)\n",
    "    # Criar o gráfico de barras\n",
    "    trace = go.Bar(x=bins[:-1], y=hist, name=col, marker_color=cores_miopia[i])\n",
    "    # Adicionar o gráfico ao subplot\n",
    "    fig.add_trace(trace, row=(i // 3) + 1, col=(i % 3) + 1)\n",
    "\n",
    "# Atualizar o layout\n",
    "fig.update_layout(\n",
    "    height=800,\n",
    "    width=1000,\n",
    "    title=dict(text='Distribuição dos Dados', x=0.5, y=0.98, font=dict(size=16)),  # Centralizando o título do gráfico\n",
    "    legend=dict(\n",
    "        orientation=\"h\",\n",
    "        yanchor=\"top\",  # Ancorar a legenda no topo\n",
    "        y=1.05,  # Ajustando a posição vertical da legenda\n",
    "        xanchor=\"right\",\n",
    "        x=1,\n",
    "    ),\n",
    "    annotations=[dict(text=\"Autor: Jonatas A. Liberato\", x=0.88, y=-0.1, xref=\"paper\", yref=\"paper\", showarrow=False)],  # Adicionando a anotação\n",
    ")\n",
    "\n",
    "# Exibir o gráfico\n",
    "fig.show()"
   ]
  },
  {
   "cell_type": "markdown",
   "metadata": {},
   "source": [
    "### Valores Logarítimicos"
   ]
  },
  {
   "cell_type": "markdown",
   "metadata": {},
   "source": [
    "Para melhor trabalharmos com os valores, faremos uma conversão dos valores em escalas logarítmicas e criaremos uma coluna com o custo médio:"
   ]
  },
  {
   "cell_type": "code",
   "execution_count": 220,
   "metadata": {},
   "outputs": [
    {
     "data": {
      "text/plain": [
       "Index(['totcost', 'output', 'plabor', 'pfuel', 'pkap'], dtype='object')"
      ]
     },
     "execution_count": 220,
     "metadata": {},
     "output_type": "execute_result"
    }
   ],
   "source": [
    "# Nomes das colunas\n",
    "df.columns"
   ]
  },
  {
   "cell_type": "code",
   "execution_count": 221,
   "metadata": {},
   "outputs": [],
   "source": [
    "# Criando novas colunas com valores dos logaritmos\n",
    "df['l_totcost'] = np.log(df['totcost'])\n",
    "df['l_output'] = np.log(df['output'])\n",
    "df['l_plabor'] = np.log(df['plabor'])\n",
    "df['l_pfuel'] = np.log(df['pfuel'])\n",
    "df['l_pkap'] = np.log(df['pkap'])\n",
    "df['mediancost'] = df['totcost'] / df['output']"
   ]
  },
  {
   "cell_type": "markdown",
   "metadata": {},
   "source": [
    "### Coluna intercept"
   ]
  },
  {
   "cell_type": "markdown",
   "metadata": {},
   "source": [
    "A coluna `intercept` com valor constante igual a 1 é adicionada ao DataFrame para representar o termo de interceptação em modelos de regressão linear. Isso permite que a linha de regressão não necessariamente passe pela origem dos eixos, ajustando-a para melhor se adequar aos dados."
   ]
  },
  {
   "cell_type": "code",
   "execution_count": 222,
   "metadata": {},
   "outputs": [
    {
     "data": {
      "text/html": [
       "<div>\n",
       "<style scoped>\n",
       "    .dataframe tbody tr th:only-of-type {\n",
       "        vertical-align: middle;\n",
       "    }\n",
       "\n",
       "    .dataframe tbody tr th {\n",
       "        vertical-align: top;\n",
       "    }\n",
       "\n",
       "    .dataframe thead th {\n",
       "        text-align: right;\n",
       "    }\n",
       "</style>\n",
       "<table border=\"1\" class=\"dataframe\">\n",
       "  <thead>\n",
       "    <tr style=\"text-align: right;\">\n",
       "      <th></th>\n",
       "      <th>totcost</th>\n",
       "      <th>output</th>\n",
       "      <th>plabor</th>\n",
       "      <th>pfuel</th>\n",
       "      <th>pkap</th>\n",
       "      <th>l_totcost</th>\n",
       "      <th>l_output</th>\n",
       "      <th>l_plabor</th>\n",
       "      <th>l_pfuel</th>\n",
       "      <th>l_pkap</th>\n",
       "      <th>mediancost</th>\n",
       "      <th>intercept</th>\n",
       "    </tr>\n",
       "  </thead>\n",
       "  <tbody>\n",
       "    <tr>\n",
       "      <th>0</th>\n",
       "      <td>0.082000</td>\n",
       "      <td>2.0</td>\n",
       "      <td>2.09</td>\n",
       "      <td>17.900000</td>\n",
       "      <td>183.0</td>\n",
       "      <td>-2.501036</td>\n",
       "      <td>0.693147</td>\n",
       "      <td>0.737164</td>\n",
       "      <td>2.884801</td>\n",
       "      <td>5.209486</td>\n",
       "      <td>0.041000</td>\n",
       "      <td>1</td>\n",
       "    </tr>\n",
       "    <tr>\n",
       "      <th>1</th>\n",
       "      <td>0.661000</td>\n",
       "      <td>3.0</td>\n",
       "      <td>2.05</td>\n",
       "      <td>35.099998</td>\n",
       "      <td>174.0</td>\n",
       "      <td>-0.414001</td>\n",
       "      <td>1.098612</td>\n",
       "      <td>0.717840</td>\n",
       "      <td>3.558201</td>\n",
       "      <td>5.159055</td>\n",
       "      <td>0.220333</td>\n",
       "      <td>1</td>\n",
       "    </tr>\n",
       "    <tr>\n",
       "      <th>2</th>\n",
       "      <td>0.990000</td>\n",
       "      <td>4.0</td>\n",
       "      <td>2.05</td>\n",
       "      <td>35.099998</td>\n",
       "      <td>171.0</td>\n",
       "      <td>-0.010050</td>\n",
       "      <td>1.386294</td>\n",
       "      <td>0.717840</td>\n",
       "      <td>3.558201</td>\n",
       "      <td>5.141664</td>\n",
       "      <td>0.247500</td>\n",
       "      <td>1</td>\n",
       "    </tr>\n",
       "    <tr>\n",
       "      <th>3</th>\n",
       "      <td>0.315000</td>\n",
       "      <td>4.0</td>\n",
       "      <td>1.83</td>\n",
       "      <td>32.200001</td>\n",
       "      <td>166.0</td>\n",
       "      <td>-1.155183</td>\n",
       "      <td>1.386294</td>\n",
       "      <td>0.604316</td>\n",
       "      <td>3.471967</td>\n",
       "      <td>5.111988</td>\n",
       "      <td>0.078750</td>\n",
       "      <td>1</td>\n",
       "    </tr>\n",
       "    <tr>\n",
       "      <th>4</th>\n",
       "      <td>0.197000</td>\n",
       "      <td>5.0</td>\n",
       "      <td>2.12</td>\n",
       "      <td>28.600000</td>\n",
       "      <td>233.0</td>\n",
       "      <td>-1.624552</td>\n",
       "      <td>1.609438</td>\n",
       "      <td>0.751416</td>\n",
       "      <td>3.353407</td>\n",
       "      <td>5.451038</td>\n",
       "      <td>0.039400</td>\n",
       "      <td>1</td>\n",
       "    </tr>\n",
       "    <tr>\n",
       "      <th>...</th>\n",
       "      <td>...</td>\n",
       "      <td>...</td>\n",
       "      <td>...</td>\n",
       "      <td>...</td>\n",
       "      <td>...</td>\n",
       "      <td>...</td>\n",
       "      <td>...</td>\n",
       "      <td>...</td>\n",
       "      <td>...</td>\n",
       "      <td>...</td>\n",
       "      <td>...</td>\n",
       "      <td>...</td>\n",
       "    </tr>\n",
       "    <tr>\n",
       "      <th>140</th>\n",
       "      <td>44.894001</td>\n",
       "      <td>9956.0</td>\n",
       "      <td>1.68</td>\n",
       "      <td>28.799999</td>\n",
       "      <td>203.0</td>\n",
       "      <td>3.804304</td>\n",
       "      <td>9.205931</td>\n",
       "      <td>0.518794</td>\n",
       "      <td>3.360375</td>\n",
       "      <td>5.313206</td>\n",
       "      <td>0.004509</td>\n",
       "      <td>1</td>\n",
       "    </tr>\n",
       "    <tr>\n",
       "      <th>141</th>\n",
       "      <td>67.120003</td>\n",
       "      <td>11477.0</td>\n",
       "      <td>2.24</td>\n",
       "      <td>26.500000</td>\n",
       "      <td>151.0</td>\n",
       "      <td>4.206482</td>\n",
       "      <td>9.348101</td>\n",
       "      <td>0.806476</td>\n",
       "      <td>3.277145</td>\n",
       "      <td>5.017280</td>\n",
       "      <td>0.005848</td>\n",
       "      <td>1</td>\n",
       "    </tr>\n",
       "    <tr>\n",
       "      <th>142</th>\n",
       "      <td>73.050003</td>\n",
       "      <td>11796.0</td>\n",
       "      <td>2.12</td>\n",
       "      <td>28.600000</td>\n",
       "      <td>148.0</td>\n",
       "      <td>4.291144</td>\n",
       "      <td>9.375516</td>\n",
       "      <td>0.751416</td>\n",
       "      <td>3.353407</td>\n",
       "      <td>4.997212</td>\n",
       "      <td>0.006193</td>\n",
       "      <td>1</td>\n",
       "    </tr>\n",
       "    <tr>\n",
       "      <th>143</th>\n",
       "      <td>139.421997</td>\n",
       "      <td>14359.0</td>\n",
       "      <td>2.31</td>\n",
       "      <td>33.500000</td>\n",
       "      <td>212.0</td>\n",
       "      <td>4.937505</td>\n",
       "      <td>9.572132</td>\n",
       "      <td>0.837247</td>\n",
       "      <td>3.511545</td>\n",
       "      <td>5.356586</td>\n",
       "      <td>0.009710</td>\n",
       "      <td>1</td>\n",
       "    </tr>\n",
       "    <tr>\n",
       "      <th>144</th>\n",
       "      <td>119.939003</td>\n",
       "      <td>16719.0</td>\n",
       "      <td>2.30</td>\n",
       "      <td>23.600000</td>\n",
       "      <td>162.0</td>\n",
       "      <td>4.786983</td>\n",
       "      <td>9.724301</td>\n",
       "      <td>0.832909</td>\n",
       "      <td>3.161247</td>\n",
       "      <td>5.087596</td>\n",
       "      <td>0.007174</td>\n",
       "      <td>1</td>\n",
       "    </tr>\n",
       "  </tbody>\n",
       "</table>\n",
       "<p>145 rows × 12 columns</p>\n",
       "</div>"
      ],
      "text/plain": [
       "        totcost   output  plabor      pfuel   pkap  l_totcost  l_output  \\\n",
       "0      0.082000      2.0    2.09  17.900000  183.0  -2.501036  0.693147   \n",
       "1      0.661000      3.0    2.05  35.099998  174.0  -0.414001  1.098612   \n",
       "2      0.990000      4.0    2.05  35.099998  171.0  -0.010050  1.386294   \n",
       "3      0.315000      4.0    1.83  32.200001  166.0  -1.155183  1.386294   \n",
       "4      0.197000      5.0    2.12  28.600000  233.0  -1.624552  1.609438   \n",
       "..          ...      ...     ...        ...    ...        ...       ...   \n",
       "140   44.894001   9956.0    1.68  28.799999  203.0   3.804304  9.205931   \n",
       "141   67.120003  11477.0    2.24  26.500000  151.0   4.206482  9.348101   \n",
       "142   73.050003  11796.0    2.12  28.600000  148.0   4.291144  9.375516   \n",
       "143  139.421997  14359.0    2.31  33.500000  212.0   4.937505  9.572132   \n",
       "144  119.939003  16719.0    2.30  23.600000  162.0   4.786983  9.724301   \n",
       "\n",
       "     l_plabor   l_pfuel    l_pkap  mediancost  intercept  \n",
       "0    0.737164  2.884801  5.209486    0.041000          1  \n",
       "1    0.717840  3.558201  5.159055    0.220333          1  \n",
       "2    0.717840  3.558201  5.141664    0.247500          1  \n",
       "3    0.604316  3.471967  5.111988    0.078750          1  \n",
       "4    0.751416  3.353407  5.451038    0.039400          1  \n",
       "..        ...       ...       ...         ...        ...  \n",
       "140  0.518794  3.360375  5.313206    0.004509          1  \n",
       "141  0.806476  3.277145  5.017280    0.005848          1  \n",
       "142  0.751416  3.353407  4.997212    0.006193          1  \n",
       "143  0.837247  3.511545  5.356586    0.009710          1  \n",
       "144  0.832909  3.161247  5.087596    0.007174          1  \n",
       "\n",
       "[145 rows x 12 columns]"
      ]
     },
     "execution_count": 222,
     "metadata": {},
     "output_type": "execute_result"
    }
   ],
   "source": [
    "df['intercept'] = 1\n",
    "df"
   ]
  },
  {
   "cell_type": "code",
   "execution_count": 223,
   "metadata": {},
   "outputs": [
    {
     "data": {
      "application/vnd.plotly.v1+json": {
       "config": {
        "plotlyServerURL": "https://plot.ly"
       },
       "data": [
        {
         "marker": {
          "color": "#1f77b4"
         },
         "type": "bar",
         "x": [
          0.0820000022649765,
          7.048999786376953,
          14.015999794006348,
          20.982999801635742,
          27.94999885559082,
          34.91699981689453,
          41.88399887084961,
          48.85099792480469,
          55.817996978759766,
          62.78499984741211,
          69.75199890136719,
          76.71900177001953,
          83.68599700927734,
          90.65299987792969,
          97.6199951171875,
          104.58699798583984,
          111.55400085449219,
          118.52099609375,
          125.48799896240234,
          132.4550018310547
         ],
         "xaxis": "x",
         "y": [
          77,
          31,
          11,
          8,
          7,
          3,
          2,
          0,
          0,
          2,
          2,
          0,
          0,
          0,
          0,
          0,
          0,
          1,
          0,
          1
         ],
         "yaxis": "y"
        }
       ],
       "layout": {
        "annotations": [
         {
          "showarrow": false,
          "text": "Autor: Jonatas A. Liberato",
          "x": 0.88,
          "xref": "paper",
          "y": -0.1,
          "yref": "paper"
         }
        ],
        "height": 600,
        "template": {
         "data": {
          "bar": [
           {
            "error_x": {
             "color": "#2a3f5f"
            },
            "error_y": {
             "color": "#2a3f5f"
            },
            "marker": {
             "line": {
              "color": "#E5ECF6",
              "width": 0.5
             },
             "pattern": {
              "fillmode": "overlay",
              "size": 10,
              "solidity": 0.2
             }
            },
            "type": "bar"
           }
          ],
          "barpolar": [
           {
            "marker": {
             "line": {
              "color": "#E5ECF6",
              "width": 0.5
             },
             "pattern": {
              "fillmode": "overlay",
              "size": 10,
              "solidity": 0.2
             }
            },
            "type": "barpolar"
           }
          ],
          "carpet": [
           {
            "aaxis": {
             "endlinecolor": "#2a3f5f",
             "gridcolor": "white",
             "linecolor": "white",
             "minorgridcolor": "white",
             "startlinecolor": "#2a3f5f"
            },
            "baxis": {
             "endlinecolor": "#2a3f5f",
             "gridcolor": "white",
             "linecolor": "white",
             "minorgridcolor": "white",
             "startlinecolor": "#2a3f5f"
            },
            "type": "carpet"
           }
          ],
          "choropleth": [
           {
            "colorbar": {
             "outlinewidth": 0,
             "ticks": ""
            },
            "type": "choropleth"
           }
          ],
          "contour": [
           {
            "colorbar": {
             "outlinewidth": 0,
             "ticks": ""
            },
            "colorscale": [
             [
              0,
              "#0d0887"
             ],
             [
              0.1111111111111111,
              "#46039f"
             ],
             [
              0.2222222222222222,
              "#7201a8"
             ],
             [
              0.3333333333333333,
              "#9c179e"
             ],
             [
              0.4444444444444444,
              "#bd3786"
             ],
             [
              0.5555555555555556,
              "#d8576b"
             ],
             [
              0.6666666666666666,
              "#ed7953"
             ],
             [
              0.7777777777777778,
              "#fb9f3a"
             ],
             [
              0.8888888888888888,
              "#fdca26"
             ],
             [
              1,
              "#f0f921"
             ]
            ],
            "type": "contour"
           }
          ],
          "contourcarpet": [
           {
            "colorbar": {
             "outlinewidth": 0,
             "ticks": ""
            },
            "type": "contourcarpet"
           }
          ],
          "heatmap": [
           {
            "colorbar": {
             "outlinewidth": 0,
             "ticks": ""
            },
            "colorscale": [
             [
              0,
              "#0d0887"
             ],
             [
              0.1111111111111111,
              "#46039f"
             ],
             [
              0.2222222222222222,
              "#7201a8"
             ],
             [
              0.3333333333333333,
              "#9c179e"
             ],
             [
              0.4444444444444444,
              "#bd3786"
             ],
             [
              0.5555555555555556,
              "#d8576b"
             ],
             [
              0.6666666666666666,
              "#ed7953"
             ],
             [
              0.7777777777777778,
              "#fb9f3a"
             ],
             [
              0.8888888888888888,
              "#fdca26"
             ],
             [
              1,
              "#f0f921"
             ]
            ],
            "type": "heatmap"
           }
          ],
          "heatmapgl": [
           {
            "colorbar": {
             "outlinewidth": 0,
             "ticks": ""
            },
            "colorscale": [
             [
              0,
              "#0d0887"
             ],
             [
              0.1111111111111111,
              "#46039f"
             ],
             [
              0.2222222222222222,
              "#7201a8"
             ],
             [
              0.3333333333333333,
              "#9c179e"
             ],
             [
              0.4444444444444444,
              "#bd3786"
             ],
             [
              0.5555555555555556,
              "#d8576b"
             ],
             [
              0.6666666666666666,
              "#ed7953"
             ],
             [
              0.7777777777777778,
              "#fb9f3a"
             ],
             [
              0.8888888888888888,
              "#fdca26"
             ],
             [
              1,
              "#f0f921"
             ]
            ],
            "type": "heatmapgl"
           }
          ],
          "histogram": [
           {
            "marker": {
             "pattern": {
              "fillmode": "overlay",
              "size": 10,
              "solidity": 0.2
             }
            },
            "type": "histogram"
           }
          ],
          "histogram2d": [
           {
            "colorbar": {
             "outlinewidth": 0,
             "ticks": ""
            },
            "colorscale": [
             [
              0,
              "#0d0887"
             ],
             [
              0.1111111111111111,
              "#46039f"
             ],
             [
              0.2222222222222222,
              "#7201a8"
             ],
             [
              0.3333333333333333,
              "#9c179e"
             ],
             [
              0.4444444444444444,
              "#bd3786"
             ],
             [
              0.5555555555555556,
              "#d8576b"
             ],
             [
              0.6666666666666666,
              "#ed7953"
             ],
             [
              0.7777777777777778,
              "#fb9f3a"
             ],
             [
              0.8888888888888888,
              "#fdca26"
             ],
             [
              1,
              "#f0f921"
             ]
            ],
            "type": "histogram2d"
           }
          ],
          "histogram2dcontour": [
           {
            "colorbar": {
             "outlinewidth": 0,
             "ticks": ""
            },
            "colorscale": [
             [
              0,
              "#0d0887"
             ],
             [
              0.1111111111111111,
              "#46039f"
             ],
             [
              0.2222222222222222,
              "#7201a8"
             ],
             [
              0.3333333333333333,
              "#9c179e"
             ],
             [
              0.4444444444444444,
              "#bd3786"
             ],
             [
              0.5555555555555556,
              "#d8576b"
             ],
             [
              0.6666666666666666,
              "#ed7953"
             ],
             [
              0.7777777777777778,
              "#fb9f3a"
             ],
             [
              0.8888888888888888,
              "#fdca26"
             ],
             [
              1,
              "#f0f921"
             ]
            ],
            "type": "histogram2dcontour"
           }
          ],
          "mesh3d": [
           {
            "colorbar": {
             "outlinewidth": 0,
             "ticks": ""
            },
            "type": "mesh3d"
           }
          ],
          "parcoords": [
           {
            "line": {
             "colorbar": {
              "outlinewidth": 0,
              "ticks": ""
             }
            },
            "type": "parcoords"
           }
          ],
          "pie": [
           {
            "automargin": true,
            "type": "pie"
           }
          ],
          "scatter": [
           {
            "fillpattern": {
             "fillmode": "overlay",
             "size": 10,
             "solidity": 0.2
            },
            "type": "scatter"
           }
          ],
          "scatter3d": [
           {
            "line": {
             "colorbar": {
              "outlinewidth": 0,
              "ticks": ""
             }
            },
            "marker": {
             "colorbar": {
              "outlinewidth": 0,
              "ticks": ""
             }
            },
            "type": "scatter3d"
           }
          ],
          "scattercarpet": [
           {
            "marker": {
             "colorbar": {
              "outlinewidth": 0,
              "ticks": ""
             }
            },
            "type": "scattercarpet"
           }
          ],
          "scattergeo": [
           {
            "marker": {
             "colorbar": {
              "outlinewidth": 0,
              "ticks": ""
             }
            },
            "type": "scattergeo"
           }
          ],
          "scattergl": [
           {
            "marker": {
             "colorbar": {
              "outlinewidth": 0,
              "ticks": ""
             }
            },
            "type": "scattergl"
           }
          ],
          "scattermapbox": [
           {
            "marker": {
             "colorbar": {
              "outlinewidth": 0,
              "ticks": ""
             }
            },
            "type": "scattermapbox"
           }
          ],
          "scatterpolar": [
           {
            "marker": {
             "colorbar": {
              "outlinewidth": 0,
              "ticks": ""
             }
            },
            "type": "scatterpolar"
           }
          ],
          "scatterpolargl": [
           {
            "marker": {
             "colorbar": {
              "outlinewidth": 0,
              "ticks": ""
             }
            },
            "type": "scatterpolargl"
           }
          ],
          "scatterternary": [
           {
            "marker": {
             "colorbar": {
              "outlinewidth": 0,
              "ticks": ""
             }
            },
            "type": "scatterternary"
           }
          ],
          "surface": [
           {
            "colorbar": {
             "outlinewidth": 0,
             "ticks": ""
            },
            "colorscale": [
             [
              0,
              "#0d0887"
             ],
             [
              0.1111111111111111,
              "#46039f"
             ],
             [
              0.2222222222222222,
              "#7201a8"
             ],
             [
              0.3333333333333333,
              "#9c179e"
             ],
             [
              0.4444444444444444,
              "#bd3786"
             ],
             [
              0.5555555555555556,
              "#d8576b"
             ],
             [
              0.6666666666666666,
              "#ed7953"
             ],
             [
              0.7777777777777778,
              "#fb9f3a"
             ],
             [
              0.8888888888888888,
              "#fdca26"
             ],
             [
              1,
              "#f0f921"
             ]
            ],
            "type": "surface"
           }
          ],
          "table": [
           {
            "cells": {
             "fill": {
              "color": "#EBF0F8"
             },
             "line": {
              "color": "white"
             }
            },
            "header": {
             "fill": {
              "color": "#C8D4E3"
             },
             "line": {
              "color": "white"
             }
            },
            "type": "table"
           }
          ]
         },
         "layout": {
          "annotationdefaults": {
           "arrowcolor": "#2a3f5f",
           "arrowhead": 0,
           "arrowwidth": 1
          },
          "autotypenumbers": "strict",
          "coloraxis": {
           "colorbar": {
            "outlinewidth": 0,
            "ticks": ""
           }
          },
          "colorscale": {
           "diverging": [
            [
             0,
             "#8e0152"
            ],
            [
             0.1,
             "#c51b7d"
            ],
            [
             0.2,
             "#de77ae"
            ],
            [
             0.3,
             "#f1b6da"
            ],
            [
             0.4,
             "#fde0ef"
            ],
            [
             0.5,
             "#f7f7f7"
            ],
            [
             0.6,
             "#e6f5d0"
            ],
            [
             0.7,
             "#b8e186"
            ],
            [
             0.8,
             "#7fbc41"
            ],
            [
             0.9,
             "#4d9221"
            ],
            [
             1,
             "#276419"
            ]
           ],
           "sequential": [
            [
             0,
             "#0d0887"
            ],
            [
             0.1111111111111111,
             "#46039f"
            ],
            [
             0.2222222222222222,
             "#7201a8"
            ],
            [
             0.3333333333333333,
             "#9c179e"
            ],
            [
             0.4444444444444444,
             "#bd3786"
            ],
            [
             0.5555555555555556,
             "#d8576b"
            ],
            [
             0.6666666666666666,
             "#ed7953"
            ],
            [
             0.7777777777777778,
             "#fb9f3a"
            ],
            [
             0.8888888888888888,
             "#fdca26"
            ],
            [
             1,
             "#f0f921"
            ]
           ],
           "sequentialminus": [
            [
             0,
             "#0d0887"
            ],
            [
             0.1111111111111111,
             "#46039f"
            ],
            [
             0.2222222222222222,
             "#7201a8"
            ],
            [
             0.3333333333333333,
             "#9c179e"
            ],
            [
             0.4444444444444444,
             "#bd3786"
            ],
            [
             0.5555555555555556,
             "#d8576b"
            ],
            [
             0.6666666666666666,
             "#ed7953"
            ],
            [
             0.7777777777777778,
             "#fb9f3a"
            ],
            [
             0.8888888888888888,
             "#fdca26"
            ],
            [
             1,
             "#f0f921"
            ]
           ]
          },
          "colorway": [
           "#636efa",
           "#EF553B",
           "#00cc96",
           "#ab63fa",
           "#FFA15A",
           "#19d3f3",
           "#FF6692",
           "#B6E880",
           "#FF97FF",
           "#FECB52"
          ],
          "font": {
           "color": "#2a3f5f"
          },
          "geo": {
           "bgcolor": "white",
           "lakecolor": "white",
           "landcolor": "#E5ECF6",
           "showlakes": true,
           "showland": true,
           "subunitcolor": "white"
          },
          "hoverlabel": {
           "align": "left"
          },
          "hovermode": "closest",
          "mapbox": {
           "style": "light"
          },
          "paper_bgcolor": "white",
          "plot_bgcolor": "#E5ECF6",
          "polar": {
           "angularaxis": {
            "gridcolor": "white",
            "linecolor": "white",
            "ticks": ""
           },
           "bgcolor": "#E5ECF6",
           "radialaxis": {
            "gridcolor": "white",
            "linecolor": "white",
            "ticks": ""
           }
          },
          "scene": {
           "xaxis": {
            "backgroundcolor": "#E5ECF6",
            "gridcolor": "white",
            "gridwidth": 2,
            "linecolor": "white",
            "showbackground": true,
            "ticks": "",
            "zerolinecolor": "white"
           },
           "yaxis": {
            "backgroundcolor": "#E5ECF6",
            "gridcolor": "white",
            "gridwidth": 2,
            "linecolor": "white",
            "showbackground": true,
            "ticks": "",
            "zerolinecolor": "white"
           },
           "zaxis": {
            "backgroundcolor": "#E5ECF6",
            "gridcolor": "white",
            "gridwidth": 2,
            "linecolor": "white",
            "showbackground": true,
            "ticks": "",
            "zerolinecolor": "white"
           }
          },
          "shapedefaults": {
           "line": {
            "color": "#2a3f5f"
           }
          },
          "ternary": {
           "aaxis": {
            "gridcolor": "white",
            "linecolor": "white",
            "ticks": ""
           },
           "baxis": {
            "gridcolor": "white",
            "linecolor": "white",
            "ticks": ""
           },
           "bgcolor": "#E5ECF6",
           "caxis": {
            "gridcolor": "white",
            "linecolor": "white",
            "ticks": ""
           }
          },
          "title": {
           "x": 0.05
          },
          "xaxis": {
           "automargin": true,
           "gridcolor": "white",
           "linecolor": "white",
           "ticks": "",
           "title": {
            "standoff": 15
           },
           "zerolinecolor": "white",
           "zerolinewidth": 2
          },
          "yaxis": {
           "automargin": true,
           "gridcolor": "white",
           "linecolor": "white",
           "ticks": "",
           "title": {
            "standoff": 15
           },
           "zerolinecolor": "white",
           "zerolinewidth": 2
          }
         }
        },
        "title": {
         "font": {
          "size": 16
         },
         "text": "Histograma totcost (em milhões de dólares USD)",
         "x": 0.5,
         "y": 0.98
        },
        "width": 800,
        "xaxis": {
         "anchor": "y",
         "domain": [
          0,
          1
         ],
         "title": {
          "text": "totcost"
         }
        },
        "yaxis": {
         "anchor": "x",
         "domain": [
          0,
          1
         ],
         "title": {
          "text": "milhões de dólares"
         }
        }
       }
      }
     },
     "metadata": {},
     "output_type": "display_data"
    }
   ],
   "source": [
    "# Subplot\n",
    "fig = make_subplots(rows=1, cols=1)\n",
    "\n",
    "# Calcula o histograma\n",
    "hist, bins = np.histogram(df['totcost'], bins=20)\n",
    "\n",
    "# Criar o gráfico de barras\n",
    "trace = go.Bar(x=bins[:-1], y=hist, marker_color=cores_miopia[0])\n",
    "fig.add_trace(trace, row=1, col=1)\n",
    "fig.update_layout(\n",
    "    height=600,\n",
    "    width=800,\n",
    "    title=dict(text=\"Histograma totcost (em milhões de dólares USD)\", x=0.5, y=0.98, font=dict(size=16)),\n",
    "    xaxis_title=\"totcost\",\n",
    "    yaxis_title=\"milhões de dólares\",\n",
    "    annotations=[dict(text=\"Autor: Jonatas A. Liberato\", x=0.88, y=-0.1, xref=\"paper\", yref=\"paper\", showarrow=False)],\n",
    ")\n",
    "fig.show()"
   ]
  },
  {
   "cell_type": "markdown",
   "metadata": {},
   "source": [
    "Podemos observar que os dados têm uma ampla dispersão, com valores variando de 0.082 milhões de dólares a 139.42 milhões de dólares. A média é de aproximadamente 12.98 milhões de dólares, indicando uma tendência central dos dados. No entanto, a presença de valores extremamente altos contribui para uma distribuição assimétrica à direita, como sugerido pela diferença entre a média e a mediana. Isso implica que uma parte significativa dos dados está concentrada em valores menores, com uma cauda longa em direção aos valores mais altos."
   ]
  },
  {
   "cell_type": "markdown",
   "metadata": {},
   "source": [
    "#### Regressão"
   ]
  },
  {
   "cell_type": "code",
   "execution_count": 224,
   "metadata": {},
   "outputs": [
    {
     "data": {
      "image/png": "[encoded data removed]",
      "text/plain": [
       "<Figure size 800x600 with 1 Axes>"
      ]
     },
     "metadata": {},
     "output_type": "display_data"
    }
   ],
   "source": [
    "plt.figure(figsize=(8,6))\n",
    "df['totcost'].plot(kind='kde')\n",
    "plt.ylabel(\"Freq\")\n",
    "plt.xlabel(\"totcost milhões USD\")\n",
    "plt.title(\"Densidade totcost (em milhões de dólares USD)\", loc='center')\n",
    "plt.annotate(\"Autor: Jonatas A. Liberato\", xy=(0.9, -0.1), xycoords='axes fraction', ha='center', fontsize=10)\n",
    "plt.show()"
   ]
  },
  {
   "cell_type": "code",
   "execution_count": 225,
   "metadata": {},
   "outputs": [
    {
     "data": {
      "text/html": [
       "<div>\n",
       "<style scoped>\n",
       "    .dataframe tbody tr th:only-of-type {\n",
       "        vertical-align: middle;\n",
       "    }\n",
       "\n",
       "    .dataframe tbody tr th {\n",
       "        vertical-align: top;\n",
       "    }\n",
       "\n",
       "    .dataframe thead th {\n",
       "        text-align: right;\n",
       "    }\n",
       "</style>\n",
       "<table border=\"1\" class=\"dataframe\">\n",
       "  <thead>\n",
       "    <tr style=\"text-align: right;\">\n",
       "      <th></th>\n",
       "      <th>totcost</th>\n",
       "      <th>output</th>\n",
       "      <th>plabor</th>\n",
       "      <th>pfuel</th>\n",
       "      <th>pkap</th>\n",
       "      <th>l_totcost</th>\n",
       "      <th>l_output</th>\n",
       "      <th>l_plabor</th>\n",
       "      <th>l_pfuel</th>\n",
       "      <th>l_pkap</th>\n",
       "      <th>mediancost</th>\n",
       "      <th>intercept</th>\n",
       "    </tr>\n",
       "  </thead>\n",
       "  <tbody>\n",
       "    <tr>\n",
       "      <th>count</th>\n",
       "      <td>145.000000</td>\n",
       "      <td>145.000000</td>\n",
       "      <td>145.000000</td>\n",
       "      <td>145.000000</td>\n",
       "      <td>145.000000</td>\n",
       "      <td>145.000000</td>\n",
       "      <td>145.000000</td>\n",
       "      <td>145.000000</td>\n",
       "      <td>145.000000</td>\n",
       "      <td>145.000000</td>\n",
       "      <td>145.000000</td>\n",
       "      <td>145.0</td>\n",
       "    </tr>\n",
       "    <tr>\n",
       "      <th>mean</th>\n",
       "      <td>12.976095</td>\n",
       "      <td>2133.082764</td>\n",
       "      <td>1.972069</td>\n",
       "      <td>26.176552</td>\n",
       "      <td>174.496552</td>\n",
       "      <td>1.724663</td>\n",
       "      <td>6.556652</td>\n",
       "      <td>0.671667</td>\n",
       "      <td>3.208858</td>\n",
       "      <td>5.156777</td>\n",
       "      <td>0.012875</td>\n",
       "      <td>1.0</td>\n",
       "    </tr>\n",
       "    <tr>\n",
       "      <th>std</th>\n",
       "      <td>19.794577</td>\n",
       "      <td>2931.942139</td>\n",
       "      <td>0.236807</td>\n",
       "      <td>7.876071</td>\n",
       "      <td>18.209476</td>\n",
       "      <td>1.421723</td>\n",
       "      <td>1.912792</td>\n",
       "      <td>0.123359</td>\n",
       "      <td>0.358900</td>\n",
       "      <td>0.100390</td>\n",
       "      <td>0.028683</td>\n",
       "      <td>0.0</td>\n",
       "    </tr>\n",
       "    <tr>\n",
       "      <th>min</th>\n",
       "      <td>0.082000</td>\n",
       "      <td>2.000000</td>\n",
       "      <td>1.450000</td>\n",
       "      <td>10.300000</td>\n",
       "      <td>138.000000</td>\n",
       "      <td>-2.501036</td>\n",
       "      <td>0.693147</td>\n",
       "      <td>0.371564</td>\n",
       "      <td>2.332144</td>\n",
       "      <td>4.927254</td>\n",
       "      <td>0.003075</td>\n",
       "      <td>1.0</td>\n",
       "    </tr>\n",
       "    <tr>\n",
       "      <th>25%</th>\n",
       "      <td>2.382000</td>\n",
       "      <td>279.000000</td>\n",
       "      <td>1.760000</td>\n",
       "      <td>21.299999</td>\n",
       "      <td>162.000000</td>\n",
       "      <td>0.867940</td>\n",
       "      <td>5.631212</td>\n",
       "      <td>0.565314</td>\n",
       "      <td>3.058707</td>\n",
       "      <td>5.087596</td>\n",
       "      <td>0.005477</td>\n",
       "      <td>1.0</td>\n",
       "    </tr>\n",
       "    <tr>\n",
       "      <th>50%</th>\n",
       "      <td>6.754000</td>\n",
       "      <td>1109.000000</td>\n",
       "      <td>2.040000</td>\n",
       "      <td>26.900000</td>\n",
       "      <td>170.000000</td>\n",
       "      <td>1.910135</td>\n",
       "      <td>7.011214</td>\n",
       "      <td>0.712950</td>\n",
       "      <td>3.292126</td>\n",
       "      <td>5.135798</td>\n",
       "      <td>0.006939</td>\n",
       "      <td>1.0</td>\n",
       "    </tr>\n",
       "    <tr>\n",
       "      <th>75%</th>\n",
       "      <td>14.132000</td>\n",
       "      <td>2507.000000</td>\n",
       "      <td>2.190000</td>\n",
       "      <td>32.200001</td>\n",
       "      <td>183.000000</td>\n",
       "      <td>2.648442</td>\n",
       "      <td>7.826842</td>\n",
       "      <td>0.783902</td>\n",
       "      <td>3.471967</td>\n",
       "      <td>5.209486</td>\n",
       "      <td>0.008571</td>\n",
       "      <td>1.0</td>\n",
       "    </tr>\n",
       "    <tr>\n",
       "      <th>max</th>\n",
       "      <td>139.421997</td>\n",
       "      <td>16719.000000</td>\n",
       "      <td>2.320000</td>\n",
       "      <td>42.799999</td>\n",
       "      <td>233.000000</td>\n",
       "      <td>4.937505</td>\n",
       "      <td>9.724301</td>\n",
       "      <td>0.841567</td>\n",
       "      <td>3.756538</td>\n",
       "      <td>5.451038</td>\n",
       "      <td>0.247500</td>\n",
       "      <td>1.0</td>\n",
       "    </tr>\n",
       "  </tbody>\n",
       "</table>\n",
       "</div>"
      ],
      "text/plain": [
       "          totcost        output      plabor       pfuel        pkap  \\\n",
       "count  145.000000    145.000000  145.000000  145.000000  145.000000   \n",
       "mean    12.976095   2133.082764    1.972069   26.176552  174.496552   \n",
       "std     19.794577   2931.942139    0.236807    7.876071   18.209476   \n",
       "min      0.082000      2.000000    1.450000   10.300000  138.000000   \n",
       "25%      2.382000    279.000000    1.760000   21.299999  162.000000   \n",
       "50%      6.754000   1109.000000    2.040000   26.900000  170.000000   \n",
       "75%     14.132000   2507.000000    2.190000   32.200001  183.000000   \n",
       "max    139.421997  16719.000000    2.320000   42.799999  233.000000   \n",
       "\n",
       "        l_totcost    l_output    l_plabor     l_pfuel      l_pkap  mediancost  \\\n",
       "count  145.000000  145.000000  145.000000  145.000000  145.000000  145.000000   \n",
       "mean     1.724663    6.556652    0.671667    3.208858    5.156777    0.012875   \n",
       "std      1.421723    1.912792    0.123359    0.358900    0.100390    0.028683   \n",
       "min     -2.501036    0.693147    0.371564    2.332144    4.927254    0.003075   \n",
       "25%      0.867940    5.631212    0.565314    3.058707    5.087596    0.005477   \n",
       "50%      1.910135    7.011214    0.712950    3.292126    5.135798    0.006939   \n",
       "75%      2.648442    7.826842    0.783902    3.471967    5.209486    0.008571   \n",
       "max      4.937505    9.724301    0.841567    3.756538    5.451038    0.247500   \n",
       "\n",
       "       intercept  \n",
       "count      145.0  \n",
       "mean         1.0  \n",
       "std          0.0  \n",
       "min          1.0  \n",
       "25%          1.0  \n",
       "50%          1.0  \n",
       "75%          1.0  \n",
       "max          1.0  "
      ]
     },
     "execution_count": 225,
     "metadata": {},
     "output_type": "execute_result"
    }
   ],
   "source": [
    "df.describe()"
   ]
  },
  {
   "cell_type": "code",
   "execution_count": 226,
   "metadata": {},
   "outputs": [
    {
     "data": {
      "image/png": "[encoded data removed]",
      "text/plain": [
       "<Figure size 800x600 with 1 Axes>"
      ]
     },
     "metadata": {},
     "output_type": "display_data"
    }
   ],
   "source": [
    "# Gráfico de dispersão entre output e mediancost\n",
    "plt.figure(figsize=(8,6))\n",
    "plt.scatter(data=df, x='output', y='mediancost', s=10, color='red')\n",
    "plt.xlabel(\"output\")\n",
    "plt.ylabel(\"mediancost\")\n",
    "plt.title(\"Dispersão entre Output e Mediancost\")\n",
    "plt.annotate(\"Autor: Jonatas A. Liberato\", xy=(0.9, -0.1), xycoords='axes fraction', ha='center', fontsize=10)\n",
    "plt.show()"
   ]
  },
  {
   "cell_type": "markdown",
   "metadata": {},
   "source": [
    "O gráfico de dispersão mostra uma tendência positiva entre 'output' e 'mediancost', indicando que, em geral, quanto maior a produção, maior o custo mediano associado. No entanto, há uma dispersão significativa dos pontos ao redor da linha de tendência, sugerindo que outros fatores podem influenciar os custos medianos. Além disso, alguns pontos podem ser identificados como outliers, destacando observações incomuns que requerem investigação adicional."
   ]
  },
  {
   "cell_type": "markdown",
   "metadata": {},
   "source": [
    "#### Aplicando Regressão dos Mínimos Quadrados Ordinários"
   ]
  },
  {
   "cell_type": "markdown",
   "metadata": {},
   "source": [
    "A Regressão dos Mínimos Quadrados Ordinários uma técnica estatística que a gente usa para estimar a relação entre uma ou mais variáveis independentes e uma variável dependente. \n",
    "\n",
    "O objetivo da regressão OLS é encontrar a linha (ou superfície, em casos de múltiplas variáveis independentes) que melhor se ajusta aos dados, minimizando a soma dos quadrados das diferenças entre os valores observados e os valores previstos pela linha de regressão."
   ]
  },
  {
   "cell_type": "markdown",
   "metadata": {},
   "source": [
    "> Os códigos abaixo são bastante semelhantes em termos de procedimento, mas diferem principalmente na maneira como adicionam o intercepto à regressão e na nomenclatura da coluna adicionada para representar o intercepto."
   ]
  },
  {
   "cell_type": "code",
   "execution_count": 227,
   "metadata": {},
   "outputs": [
    {
     "name": "stdout",
     "output_type": "stream",
     "text": [
      "                            OLS Regression Results                            \n",
      "==============================================================================\n",
      "Dep. Variable:              l_totcost   R-squared:                       0.926\n",
      "Model:                            OLS   Adj. R-squared:                  0.924\n",
      "Method:                 Least Squares   F-statistic:                     437.7\n",
      "Date:                Wed, 17 Apr 2024   Prob (F-statistic):           4.82e-78\n",
      "Time:                        08:38:07   Log-Likelihood:                -67.542\n",
      "No. Observations:                 145   AIC:                             145.1\n",
      "Df Residuals:                     140   BIC:                             160.0\n",
      "Df Model:                           4                                         \n",
      "Covariance Type:            nonrobust                                         \n",
      "==============================================================================\n",
      "                 coef    std err          t      P>|t|      [0.025      0.975]\n",
      "------------------------------------------------------------------------------\n",
      "intercept     -3.5265      1.774     -1.987      0.049      -7.035      -0.018\n",
      "l_output       0.7204      0.017     41.244      0.000       0.686       0.755\n",
      "l_plabor       0.4363      0.291      1.499      0.136      -0.139       1.012\n",
      "l_pfuel        0.4265      0.100      4.249      0.000       0.228       0.625\n",
      "l_pkap        -0.2199      0.339     -0.648      0.518      -0.891       0.451\n",
      "==============================================================================\n",
      "Omnibus:                       51.403   Durbin-Watson:                   1.013\n",
      "Prob(Omnibus):                  0.000   Jarque-Bera (JB):              175.700\n",
      "Skew:                           1.303   Prob(JB):                     7.03e-39\n",
      "Kurtosis:                       7.721   Cond. No.                         506.\n",
      "==============================================================================\n",
      "\n",
      "Notes:\n",
      "[1] Standard Errors assume that the covariance matrix of the errors is correctly specified.\n"
     ]
    }
   ],
   "source": [
    "# Separando os dados\n",
    "Y = df[\"l_totcost\"]\n",
    "X = df[[\"intercept\",\"l_output\", \"l_plabor\", \"l_pfuel\", \"l_pkap\"]]\n",
    "est = sm.OLS(Y,X)\n",
    "est2 = est.fit()\n",
    "print(est2.summary())"
   ]
  },
  {
   "cell_type": "markdown",
   "metadata": {},
   "source": [
    "A regressão estima o efeito de \"l_output\", \"l_plabor\", \"l_pfuel\" e \"l_pkap\" sobre \"l_totcost\", além de um intercepto."
   ]
  },
  {
   "cell_type": "code",
   "execution_count": 228,
   "metadata": {},
   "outputs": [
    {
     "name": "stdout",
     "output_type": "stream",
     "text": [
      "                            OLS Regression Results                            \n",
      "==============================================================================\n",
      "Dep. Variable:              l_totcost   R-squared:                       0.926\n",
      "Model:                            OLS   Adj. R-squared:                  0.924\n",
      "Method:                 Least Squares   F-statistic:                     437.7\n",
      "Date:                Wed, 17 Apr 2024   Prob (F-statistic):           4.82e-78\n",
      "Time:                        08:38:08   Log-Likelihood:                -67.542\n",
      "No. Observations:                 145   AIC:                             145.1\n",
      "Df Residuals:                     140   BIC:                             160.0\n",
      "Df Model:                           4                                         \n",
      "Covariance Type:            nonrobust                                         \n",
      "==============================================================================\n",
      "                 coef    std err          t      P>|t|      [0.025      0.975]\n",
      "------------------------------------------------------------------------------\n",
      "const         -3.5265      1.774     -1.987      0.049      -7.035      -0.018\n",
      "l_output       0.7204      0.017     41.244      0.000       0.686       0.755\n",
      "l_plabor       0.4363      0.291      1.499      0.136      -0.139       1.012\n",
      "l_pfuel        0.4265      0.100      4.249      0.000       0.228       0.625\n",
      "l_pkap        -0.2199      0.339     -0.648      0.518      -0.891       0.451\n",
      "==============================================================================\n",
      "Omnibus:                       51.403   Durbin-Watson:                   1.013\n",
      "Prob(Omnibus):                  0.000   Jarque-Bera (JB):              175.700\n",
      "Skew:                           1.303   Prob(JB):                     7.03e-39\n",
      "Kurtosis:                       7.721   Cond. No.                         506.\n",
      "==============================================================================\n",
      "\n",
      "Notes:\n",
      "[1] Standard Errors assume that the covariance matrix of the errors is correctly specified.\n"
     ]
    }
   ],
   "source": [
    "# Separando os dados\n",
    "Y = df[\"l_totcost\"]\n",
    "X = df[[\"l_output\", \"l_plabor\", \"l_pfuel\", \"l_pkap\"]]\n",
    "# Adicionando uma constante às variáveis independentes para estimar o intercepto do modelo de regressão\n",
    "X = sm.add_constant(X)\n",
    "# Modelo de Regressão linear ajustando-se aos dados de y e do intercepto\n",
    "est = sm.OLS(Y, X).fit()\n",
    "print(est.summary())"
   ]
  },
  {
   "cell_type": "markdown",
   "metadata": {},
   "source": [
    "Aqui a regressão é ajustada usando as variáveis independentes com a constante adicionada. Portanto, a regressão estima o efeito de \"l_output\", \"l_plabor\", \"l_pfuel\" e \"l_pkap\" sobre \"l_totcost\", juntamente com um intercepto."
   ]
  },
  {
   "cell_type": "code",
   "execution_count": 229,
   "metadata": {},
   "outputs": [
    {
     "name": "stdout",
     "output_type": "stream",
     "text": [
      "                            OLS Regression Results                            \n",
      "==============================================================================\n",
      "Dep. Variable:              l_totcost   R-squared:                       0.926\n",
      "Model:                            OLS   Adj. R-squared:                  0.924\n",
      "Method:                 Least Squares   F-statistic:                     437.7\n",
      "Date:                Wed, 17 Apr 2024   Prob (F-statistic):           4.82e-78\n",
      "Time:                        08:38:08   Log-Likelihood:                -67.542\n",
      "No. Observations:                 145   AIC:                             145.1\n",
      "Df Residuals:                     140   BIC:                             160.0\n",
      "Df Model:                           4                                         \n",
      "Covariance Type:            nonrobust                                         \n",
      "==============================================================================\n",
      "                 coef    std err          t      P>|t|      [0.025      0.975]\n",
      "------------------------------------------------------------------------------\n",
      "intercept     -3.5265      1.774     -1.987      0.049      -7.035      -0.018\n",
      "l_output       0.7204      0.017     41.244      0.000       0.686       0.755\n",
      "l_plabor       0.4363      0.291      1.499      0.136      -0.139       1.012\n",
      "l_pfuel        0.4265      0.100      4.249      0.000       0.228       0.625\n",
      "l_pkap        -0.2199      0.339     -0.648      0.518      -0.891       0.451\n",
      "==============================================================================\n",
      "Omnibus:                       51.403   Durbin-Watson:                   1.013\n",
      "Prob(Omnibus):                  0.000   Jarque-Bera (JB):              175.700\n",
      "Skew:                           1.303   Prob(JB):                     7.03e-39\n",
      "Kurtosis:                       7.721   Cond. No.                         506.\n",
      "==============================================================================\n",
      "\n",
      "Notes:\n",
      "[1] Standard Errors assume that the covariance matrix of the errors is correctly specified.\n"
     ]
    }
   ],
   "source": [
    "Y = df[\"l_totcost\"]\n",
    "X = df[[\"intercept\", \"l_output\", \"l_plabor\", \"l_pfuel\", \"l_pkap\"]]\n",
    "est = sm.OLS(Y, X).fit()\n",
    "print(est.summary())"
   ]
  },
  {
   "cell_type": "code",
   "execution_count": 230,
   "metadata": {},
   "outputs": [
    {
     "data": {
      "text/plain": [
       "intercept   -3.526503\n",
       "l_output     0.720394\n",
       "l_plabor     0.436341\n",
       "l_pfuel      0.426517\n",
       "l_pkap      -0.219888\n",
       "dtype: float64"
      ]
     },
     "execution_count": 230,
     "metadata": {},
     "output_type": "execute_result"
    }
   ],
   "source": [
    "est2.params"
   ]
  },
  {
   "cell_type": "markdown",
   "metadata": {},
   "source": [
    "#### Conclusões"
   ]
  },
  {
   "cell_type": "markdown",
   "metadata": {},
   "source": [
    "O que notamos sobre os resultados da regressão:\n",
    "\n",
    "- O modelo explica cerca de 92.6% da variação na variável dependente ('l_totcost'), indicando um bom ajuste aos dados.\n",
    "- A variável 'l_output' tem um efeito positivo significativo em 'l_totcost', sugerindo que um aumento em 'l_output' está associado a um aumento em 'l_totcost'.\n",
    "- 'l_plabor' não é significativo, indicando que não tem um efeito estatisticamente significativo em 'l_totcost'.\n",
    "- 'l_pfuel' tem um efeito positivo significativo em 'l_totcost', indicando que um aumento em 'l_pfuel' está associado a um aumento em 'l_totcost'.\n",
    "- 'l_pkap' não é significativo, sugerindo que não tem um efeito estatisticamente significativo em 'l_totcost'.\n",
    "- O teste F indica que pelo menos uma das variáveis independentes é significativa no modelo.\n",
    "- Outros diagnósticos indicam que os resíduos não são normalmente distribuídos, mas não há autocorrelação significativa entre eles, e não parece haver multicolinearidade entre as variáveis independentes."
   ]
  },
  {
   "cell_type": "markdown",
   "metadata": {},
   "source": [
    "##### Sobre o Teste de Hipótese"
   ]
  },
  {
   "cell_type": "markdown",
   "metadata": {},
   "source": [
    "A fórmula para a especificação mais comum de teste de hipótese na análise de regressão é o conhecido *teste t*:\n",
    "\n",
    "**t = (β - β₀) / √(σ²/n)**\n",
    "\n",
    "Onde:\n",
    "\n",
    "- t é a estatística do teste t, que segue uma distribuição t de Student com n-1 graus de liberdade\n",
    "- β é o valor estimado do parâmetro β (coeficiente de regressão) na amostra\n",
    "- β₀ é o valor hipotetizado do parâmetro β (coeficiente de regressão) na população\n",
    "- σ² é a variância residual estimada do modelo de regressão\n",
    "- n é o tamanho da amostra.\n",
    "\n",
    "**Hipóteses:**\n",
    "- H₀ (Hipótese nula): β = β₀\n",
    "- H₁ (Hipótese alternativa): β ≠ β₀\n",
    "\n",
    "**Interpretação:**\n",
    "- se o valor absoluto de t for maior que o valor crítico da distribuição t de Student com n-1 graus de liberdade e nível de significância α, então rejeitamos a H₀ e concluímos que há evidências suficientes para afirmar que β ≠ β₀\n",
    "- se o valor absoluto de t for menor que o valor crítico da distribuição t de Student com n-1 graus de liberdade e nível de significância α, então não podemos rejeitar a H₀ e não há evidências suficientes para afirmar que β ≠ β₀\n",
    "\n",
    "**Observações:**\n",
    "- É importante verificar se os pressupostos do modelo de regressão linear são satisfeitos antes de realizar o teste t\n",
    "- O nível de significância α é geralmente definido como 0,05 ou 0,01\n",
    "- O poder do teste depende do tamanho da amostra, da variância residual e da diferença entre β e β₀"
   ]
  },
  {
   "cell_type": "markdown",
   "metadata": {},
   "source": [
    "##### Teste Global"
   ]
  },
  {
   "cell_type": "markdown",
   "metadata": {},
   "source": [
    "Já a hipótese nula de um teste global em análise de regressão geralmente afirma que todos os coeficientes de regressão, exceto o intercepto, são iguais a zero. Em outras palavras, a variável dependente não é explicada por nenhuma das variáveis independentes.\n",
    "\n",
    "**Formalmente:**\n",
    "\n",
    "- H₀ (Hipótese nula): β₁ = β₂ = ... = βₖ = 0\n",
    "- H₁ (Hipótese alternativa): Pelo menos um βᵢ ≠ 0\n",
    "\n",
    "Onde:\n",
    "- β₀ é o intercepto do modelo de regressão\n",
    "- β₁, β₂, ..., βₖ são os coeficientes de regressão das variáveis independentes X₁, X₂, ..., Xₖ\n",
    "\n",
    "**Interpretação:**\n",
    "- se a p-valor do teste for menor que o nível de significância α, então rejeitamos a H₀ e concluímos que há evidências suficientes para afirmar que pelo menos um dos coeficientes de regressão é diferente de zero. Isso significa que pelo menos uma das variáveis independentes explica a variável dependente\n",
    "- se a p-valor do teste for maior que o nível de significância α, então não podemos rejeitar a H₀ e não há evidências suficientes para afirmar que pelo menos um dos coeficientes de regressão é diferente de zero. Isso significa que nenhuma das variáveis independentes explica a variável dependente\n",
    "\n",
    "**Resumindo:**\n",
    "\n",
    "O teste global é um teste conjunto que avalia a significância de todos os coeficientes de regressão simultaneamente\n",
    "Se o teste global for significativo, podemos realizar testes t individuais para cada coeficiente de regressão para determinar quais são significantes individualmente\n",
    "É importante verificar se os pressupostos do modelo de regressão linear são satisfeitos antes de realizar o teste global"
   ]
  },
  {
   "cell_type": "markdown",
   "metadata": {},
   "source": [
    "## APLICANDO O TESTE"
   ]
  },
  {
   "cell_type": "markdown",
   "metadata": {},
   "source": [
    "Realizaremos o teste global de hipóteses em um modelo de regressão, onde todas as variáveis independentes são testadas simultaneamente para ver se têm um efeito conjunto significativo sobre a variável dependente.\n",
    "\n",
    "- A estatística F é usada para esse teste global. Ela compara a variabilidade explicada pelo modelo (Soma dos Quadrados da Regressão - SSR) com a variabilidade não explicada (Soma dos Quadrados do Erro - SSE), e a hipótese nula é que todos os coeficientes de regressão são zero, o que significa que todas as variáveis independentes não têm efeito conjunto sobre a variável dependente.\n",
    "\n",
    "- A matriz R e o vetor r são usados para expressar as restrições lineares nas variáveis independentes que estamos testando. No contexto do teste global, a matriz R seria uma matriz de identidade com dimensões adequadas, e o vetor r seria um vetor de zeros, indicando que não há restrições específicas nas variáveis independentes."
   ]
  },
  {
   "cell_type": "code",
   "execution_count": 231,
   "metadata": {},
   "outputs": [
    {
     "data": {
      "text/plain": [
       "array([[0, 0, 0, 0, 0],\n",
       "       [0, 1, 0, 0, 0],\n",
       "       [0, 0, 1, 0, 0],\n",
       "       [0, 0, 0, 1, 0],\n",
       "       [0, 0, 0, 0, 1]])"
      ]
     },
     "execution_count": 231,
     "metadata": {},
     "output_type": "execute_result"
    }
   ],
   "source": [
    "R = np.array(([0,0,0,0,0], [0,1,0,0,0], [0,0,1,0,0], [0,0,0,1,0], [0,0,0,0,1]))\n",
    "R"
   ]
  },
  {
   "cell_type": "code",
   "execution_count": 232,
   "metadata": {},
   "outputs": [
    {
     "name": "stdout",
     "output_type": "stream",
     "text": [
      "<F test: F=437.68625864042923, p=4.819387489862969e-78, df_denom=140, df_num=4>\n"
     ]
    }
   ],
   "source": [
    "# Teste estatística F\n",
    "print(est.f_test(R))"
   ]
  },
  {
   "cell_type": "markdown",
   "metadata": {},
   "source": [
    "Nesse contexto, estamos interessados em testar se a soma dos coeficientes associados aos fatores produtivos em um modelo de regressão é igual a 1, o que indicaria que a função de custo está exibindo retornos constantes de escala. Portanto, temos as seguintes hipóteses:\n",
    "\n",
    "- Hipótese nula (H₀): A soma dos coeficientes dos fatores produtivos é igual a 1.\n",
    "  - Matematicamente, isso é representado como: β₃ + β₄ + β₅ = 1\n",
    "\n",
    "- Hipótese alternativa (H₁): A soma dos coeficientes dos fatores produtivos não é igual a 1.\n",
    "  - Matematicamente, isso é representado como: β₃ + β₄ + β₅ ≠ 1\n",
    "\n",
    "Para testar essas hipóteses, podemos usar um teste de restrição linear nos coeficientes do modelo de regressão. Definimos uma matriz de restrição (R) e um vetor de restrição (r) que representam a restrição que estamos testando. \n",
    "\n",
    "No caso apresentado, a matriz R é [0, 0, 1, 1, 1] e o vetor r é 1. Isso significa que estamos testando se a soma dos coeficientes associados aos fatores produtivos (β₃, β₄ e β₅) é igual a 1, assumindo que as demais variáveis independentes não estão restritas.\n",
    "\n",
    "Após definir essas restrições, podemos realizar o teste estatístico para avaliar se há evidências suficientes para rejeitar a hipótese nula em favor da hipótese alternativa."
   ]
  },
  {
   "cell_type": "code",
   "execution_count": 233,
   "metadata": {},
   "outputs": [],
   "source": [
    "# Aplicando\n",
    "formula = 'l_totcost ~  intercept + l_output + l_plabor + l_pfuel + l_pkap'\n",
    "results = ols(formula, df).fit()\n",
    "# Podemos incluir quantas restrições desejarmos, adicionando uma vírgula (,) após a restrição\n",
    "hipotese = 'l_plabor + l_pfuel + l_pkap = 1'"
   ]
  },
  {
   "cell_type": "markdown",
   "metadata": {},
   "source": [
    "- H₀: β3 + β4 + β5 = 1\n",
    "- H₁: β3 + β4 + β5 - 1 = 0 "
   ]
  },
  {
   "cell_type": "markdown",
   "metadata": {},
   "source": [
    "Teste T de student"
   ]
  },
  {
   "cell_type": "markdown",
   "metadata": {},
   "source": [
    "Nós usamos esse teste para comparar as médias de dois grupos independentes, considerando a variabilidade dos dados em cada grupo. Ele determina se a diferença entre as médias é estatisticamente significativa com base no tamanho da amostra e na variabilidade dos dados. "
   ]
  },
  {
   "cell_type": "code",
   "execution_count": 234,
   "metadata": {},
   "outputs": [
    {
     "name": "stdout",
     "output_type": "stream",
     "text": [
      "                             Test for Constraints                             \n",
      "==============================================================================\n",
      "                 coef    std err          t      P>|t|      [0.025      0.975]\n",
      "------------------------------------------------------------------------------\n",
      "c0             0.6430      0.471     -0.757      0.450      -0.289       1.575\n",
      "==============================================================================\n"
     ]
    }
   ],
   "source": [
    "t_test = results.t_test(hipotese)\n",
    "print(t_test)"
   ]
  },
  {
   "cell_type": "markdown",
   "metadata": {},
   "source": [
    "Aqui obtemos os resultados do teste para as restrições especificadas na hipótese. No caso, o coeficiente estimado para a restrição (c0) é 0.6430, com um erro padrão de 0.471 e um valor t associado de -0.757. O valor p (P>|t|) é 0.450, indicando que não há evidências suficientes para rejeitar a hipótese nula ao nível de significância usual de 0.05."
   ]
  },
  {
   "cell_type": "code",
   "execution_count": 235,
   "metadata": {},
   "outputs": [
    {
     "name": "stdout",
     "output_type": "stream",
     "text": [
      "<F test: F=0.5736602771442045, p=0.4500809756202523, df_denom=140, df_num=1>\n"
     ]
    }
   ],
   "source": [
    "f_test = results.f_test(hipotese)\n",
    "print(f_test)"
   ]
  },
  {
   "cell_type": "markdown",
   "metadata": {},
   "source": [
    "Aqui um outro teste F para um conjunto diferente de restrições especificadas na hipótese. O resultado mostra um valor F alto de 851.95, com um valor p muito baixo (aproximadamente 0), sugerindo que há evidências significativas para rejeitar a hipótese nula ao nível de significância usual de 0.05."
   ]
  },
  {
   "cell_type": "markdown",
   "metadata": {},
   "source": [
    "#### Resultados"
   ]
  },
  {
   "cell_type": "code",
   "execution_count": 236,
   "metadata": {},
   "outputs": [
    {
     "name": "stdout",
     "output_type": "stream",
     "text": [
      "                            OLS Regression Results                            \n",
      "==============================================================================\n",
      "Dep. Variable:              l_totcost   R-squared:                       0.926\n",
      "Model:                            OLS   Adj. R-squared:                  0.924\n",
      "Method:                 Least Squares   F-statistic:                     437.7\n",
      "Date:                Wed, 17 Apr 2024   Prob (F-statistic):           4.82e-78\n",
      "Time:                        08:38:08   Log-Likelihood:                -67.542\n",
      "No. Observations:                 145   AIC:                             145.1\n",
      "Df Residuals:                     140   BIC:                             160.0\n",
      "Df Model:                           4                                         \n",
      "Covariance Type:            nonrobust                                         \n",
      "==============================================================================\n",
      "                 coef    std err          t      P>|t|      [0.025      0.975]\n",
      "------------------------------------------------------------------------------\n",
      "intercept     -3.5265      1.774     -1.987      0.049      -7.035      -0.018\n",
      "l_output       0.7204      0.017     41.244      0.000       0.686       0.755\n",
      "l_plabor       0.4363      0.291      1.499      0.136      -0.139       1.012\n",
      "l_pfuel        0.4265      0.100      4.249      0.000       0.228       0.625\n",
      "l_pkap        -0.2199      0.339     -0.648      0.518      -0.891       0.451\n",
      "==============================================================================\n",
      "Omnibus:                       51.403   Durbin-Watson:                   1.013\n",
      "Prob(Omnibus):                  0.000   Jarque-Bera (JB):              175.700\n",
      "Skew:                           1.303   Prob(JB):                     7.03e-39\n",
      "Kurtosis:                       7.721   Cond. No.                         506.\n",
      "==============================================================================\n",
      "\n",
      "Notes:\n",
      "[1] Standard Errors assume that the covariance matrix of the errors is correctly specified.\n"
     ]
    }
   ],
   "source": [
    "print(est.summary())"
   ]
  },
  {
   "cell_type": "markdown",
   "metadata": {},
   "source": [
    "Com esses resultados da regressão linear ordinária (OLS) onde a variável dependente é \"l_totcost\" e as variáveis independentes são \"One\", \"l_output\", \"l_plabor\", \"l_pfuel\" e \"l_pkap\". O modelo apresenta um bom ajuste, com um alto R-quadrado de 0.926 e um baixo valor p para o teste F de 4.82e-78, indicando significância estatística para o modelo como um todo. No entanto, algumas variáveis independentes, como \"l_plabor\" e \"l_pkap\", não são estatisticamente significantes, conforme evidenciado pelos valores p acima do nível de significância de 0.05."
   ]
  },
  {
   "cell_type": "markdown",
   "metadata": {},
   "source": [
    "## CONCLUSÕES: Curvatura das estimativas"
   ]
  },
  {
   "cell_type": "markdown",
   "metadata": {},
   "source": [
    "Analisando a curvatura das estimativas econômicas, otemos informações sobre como as relações entre variáveis ​​se comportam em diferentes pontos ao longo da distribuição dos dados. Isso é crucial para entender se essas relações são lineares ou não lineares e se há alguma variação na magnitude ou direção do efeito das variáveis independentes sobre a variável dependente em diferentes intervalos"
   ]
  },
  {
   "cell_type": "code",
   "execution_count": 237,
   "metadata": {},
   "outputs": [
    {
     "name": "stdout",
     "output_type": "stream",
     "text": [
      "Dimensões de X: (145, 5)\n",
      "Número de coeficientes do modelo: (5,)\n"
     ]
    }
   ],
   "source": [
    "print(\"Dimensões de X:\", X.shape)\n",
    "print(\"Número de coeficientes do modelo:\", est.params.shape)"
   ]
  },
  {
   "cell_type": "code",
   "execution_count": 238,
   "metadata": {},
   "outputs": [
    {
     "data": {
      "text/html": [
       "<div>\n",
       "<style scoped>\n",
       "    .dataframe tbody tr th:only-of-type {\n",
       "        vertical-align: middle;\n",
       "    }\n",
       "\n",
       "    .dataframe tbody tr th {\n",
       "        vertical-align: top;\n",
       "    }\n",
       "\n",
       "    .dataframe thead th {\n",
       "        text-align: right;\n",
       "    }\n",
       "</style>\n",
       "<table border=\"1\" class=\"dataframe\">\n",
       "  <thead>\n",
       "    <tr style=\"text-align: right;\">\n",
       "      <th></th>\n",
       "      <th>totcost</th>\n",
       "      <th>output</th>\n",
       "      <th>plabor</th>\n",
       "      <th>pfuel</th>\n",
       "      <th>pkap</th>\n",
       "      <th>l_totcost</th>\n",
       "      <th>l_output</th>\n",
       "      <th>l_plabor</th>\n",
       "      <th>l_pfuel</th>\n",
       "      <th>l_pkap</th>\n",
       "      <th>mediancost</th>\n",
       "      <th>intercept</th>\n",
       "      <th>l_totcost_e</th>\n",
       "      <th>avgcost_e</th>\n",
       "    </tr>\n",
       "  </thead>\n",
       "  <tbody>\n",
       "    <tr>\n",
       "      <th>0</th>\n",
       "      <td>0.082</td>\n",
       "      <td>2.0</td>\n",
       "      <td>2.09</td>\n",
       "      <td>17.900000</td>\n",
       "      <td>183.0</td>\n",
       "      <td>-2.501036</td>\n",
       "      <td>0.693147</td>\n",
       "      <td>0.737164</td>\n",
       "      <td>2.884801</td>\n",
       "      <td>5.209486</td>\n",
       "      <td>0.041000</td>\n",
       "      <td>1</td>\n",
       "      <td>0.072759</td>\n",
       "      <td>0.036380</td>\n",
       "    </tr>\n",
       "    <tr>\n",
       "      <th>1</th>\n",
       "      <td>0.661</td>\n",
       "      <td>3.0</td>\n",
       "      <td>2.05</td>\n",
       "      <td>35.099998</td>\n",
       "      <td>174.0</td>\n",
       "      <td>-0.414001</td>\n",
       "      <td>1.098612</td>\n",
       "      <td>0.717840</td>\n",
       "      <td>3.558201</td>\n",
       "      <td>5.159055</td>\n",
       "      <td>0.220333</td>\n",
       "      <td>1</td>\n",
       "      <td>0.130207</td>\n",
       "      <td>0.043402</td>\n",
       "    </tr>\n",
       "    <tr>\n",
       "      <th>2</th>\n",
       "      <td>0.990</td>\n",
       "      <td>4.0</td>\n",
       "      <td>2.05</td>\n",
       "      <td>35.099998</td>\n",
       "      <td>171.0</td>\n",
       "      <td>-0.010050</td>\n",
       "      <td>1.386294</td>\n",
       "      <td>0.717840</td>\n",
       "      <td>3.558201</td>\n",
       "      <td>5.141664</td>\n",
       "      <td>0.247500</td>\n",
       "      <td>1</td>\n",
       "      <td>0.160805</td>\n",
       "      <td>0.040201</td>\n",
       "    </tr>\n",
       "    <tr>\n",
       "      <th>3</th>\n",
       "      <td>0.315</td>\n",
       "      <td>4.0</td>\n",
       "      <td>1.83</td>\n",
       "      <td>32.200001</td>\n",
       "      <td>166.0</td>\n",
       "      <td>-1.155183</td>\n",
       "      <td>1.386294</td>\n",
       "      <td>0.604316</td>\n",
       "      <td>3.471967</td>\n",
       "      <td>5.111988</td>\n",
       "      <td>0.078750</td>\n",
       "      <td>1</td>\n",
       "      <td>0.148473</td>\n",
       "      <td>0.037118</td>\n",
       "    </tr>\n",
       "    <tr>\n",
       "      <th>4</th>\n",
       "      <td>0.197</td>\n",
       "      <td>5.0</td>\n",
       "      <td>2.12</td>\n",
       "      <td>28.600000</td>\n",
       "      <td>233.0</td>\n",
       "      <td>-1.624552</td>\n",
       "      <td>1.609438</td>\n",
       "      <td>0.751416</td>\n",
       "      <td>3.353407</td>\n",
       "      <td>5.451038</td>\n",
       "      <td>0.039400</td>\n",
       "      <td>1</td>\n",
       "      <td>0.164058</td>\n",
       "      <td>0.032812</td>\n",
       "    </tr>\n",
       "  </tbody>\n",
       "</table>\n",
       "</div>"
      ],
      "text/plain": [
       "   totcost  output  plabor      pfuel   pkap  l_totcost  l_output  l_plabor  \\\n",
       "0    0.082     2.0    2.09  17.900000  183.0  -2.501036  0.693147  0.737164   \n",
       "1    0.661     3.0    2.05  35.099998  174.0  -0.414001  1.098612  0.717840   \n",
       "2    0.990     4.0    2.05  35.099998  171.0  -0.010050  1.386294  0.717840   \n",
       "3    0.315     4.0    1.83  32.200001  166.0  -1.155183  1.386294  0.604316   \n",
       "4    0.197     5.0    2.12  28.600000  233.0  -1.624552  1.609438  0.751416   \n",
       "\n",
       "    l_pfuel    l_pkap  mediancost  intercept  l_totcost_e  avgcost_e  \n",
       "0  2.884801  5.209486    0.041000          1     0.072759   0.036380  \n",
       "1  3.558201  5.159055    0.220333          1     0.130207   0.043402  \n",
       "2  3.558201  5.141664    0.247500          1     0.160805   0.040201  \n",
       "3  3.471967  5.111988    0.078750          1     0.148473   0.037118  \n",
       "4  3.353407  5.451038    0.039400          1     0.164058   0.032812  "
      ]
     },
     "execution_count": 238,
     "metadata": {},
     "output_type": "execute_result"
    }
   ],
   "source": [
    "# Predição dos valores do logaritmo natural da variável dependente \"l_totcost\"\n",
    "logy_pred = est.predict(X)\n",
    "\n",
    "# Conversão dos valores previstos de volta para a escala original aplicando a função exponencial\n",
    "Y = np.exp(logy_pred)\n",
    "\n",
    "# Adição dos valores previstos da variável dependente de volta ao DataFrame como uma nova coluna 'l_totcost_e'\n",
    "df['l_totcost_e'] = Y\n",
    "\n",
    "# Cálculo do custo médio estimado ('avgcost_e') dividindo os valores previstos pela variável 'output'\n",
    "df['avgcost_e'] = df[\"l_totcost_e\"] / df[\"output\"]\n",
    "\n",
    "# Exibição das primeiras linhas do DataFrame após a adição das colunas 'l_totcost_e' e 'avgcost_e'\n",
    "df.head()"
   ]
  },
  {
   "cell_type": "markdown",
   "metadata": {},
   "source": [
    "1. Nós primeiro fizemos as previsões dos valores do logaritmo natural da variável dependente \"l_totcost\" com base nas variáveis independentes contidas no DataFrame \"X\", usando o modelo de regressão linear \"est\". \n",
    "2. Em seguida, essas previsões são convertidas de volta para a escala original aplicando a função exponencial. Esses valores previstos são então atribuídos a uma nova coluna chamada \"l_totcost_e\" no DataFrame \"df\". \n",
    "3. Por fim, é calculado o custo médio estimado (\"avgcost_e\") dividindo os valores previstos pela variável \"output\" e os resultados são adicionados ao DataFrame \"df\"."
   ]
  },
  {
   "cell_type": "code",
   "execution_count": 249,
   "metadata": {},
   "outputs": [
    {
     "data": {
      "image/png": "[encoded data removed]",
      "text/plain": [
       "<Figure size 800x600 with 1 Axes>"
      ]
     },
     "metadata": {},
     "output_type": "display_data"
    }
   ],
   "source": [
    "# Plotando a distribuição de tocost\n",
    "plt.figure(figsize=(8,6))\n",
    "plt.scatter(df.output, df.mediancost, s = 15, color =\"red\")\n",
    "plt.scatter(df.output, df.avgcost_e, s = 15, color =\"blue\")\n",
    "plt.ylabel(\"Freq\")\n",
    "plt.xlabel(\"totcost (em milhões de dólares)\")\n",
    "plt.title(\"Histograma totcost MM USD\")\n",
    "plt.annotate(\"Autor: Jonatas A. Liberato\", xy=(0.9, -0.1), xycoords='axes fraction', ha='center', fontsize=10)\n",
    "plt.show()"
   ]
  },
  {
   "cell_type": "markdown",
   "metadata": {},
   "source": [
    "Aqui vamos adicionar uma nova coluna ao DataFrame chamada \"l_output_2\", que contém o quadrado dos valores da coluna \"l_output\", para a usarmos em análises econométricas para modelar relações não lineares entre variáveis, capturando melhor a curvatura ou outras formas de comportamento não linear nos dados."
   ]
  },
  {
   "cell_type": "code",
   "execution_count": 240,
   "metadata": {},
   "outputs": [
    {
     "data": {
      "text/plain": [
       "0       0.480453\n",
       "1       1.206949\n",
       "2       1.921812\n",
       "3       1.921812\n",
       "4       2.590291\n",
       "         ...    \n",
       "140    84.749161\n",
       "141    87.386986\n",
       "142    87.900299\n",
       "143    91.625710\n",
       "144    94.562035\n",
       "Name: l_output_2, Length: 145, dtype: float32"
      ]
     },
     "execution_count": 240,
     "metadata": {},
     "output_type": "execute_result"
    }
   ],
   "source": [
    "df[\"l_output_2\"] = df[\"l_output\"]**2\n",
    "df['l_output_2']"
   ]
  },
  {
   "cell_type": "code",
   "execution_count": 250,
   "metadata": {},
   "outputs": [
    {
     "data": {
      "image/png": "[encoded data removed]",
      "text/plain": [
       "<Figure size 800x600 with 1 Axes>"
      ]
     },
     "metadata": {},
     "output_type": "display_data"
    }
   ],
   "source": [
    "# Plotando os resultados\n",
    "plt.figure(figsize=(8,6))\n",
    "plt.scatter(df['l_output'], df['mediancost'], s=15, color=\"red\", label=\"Median Cost\")\n",
    "plt.scatter(df['l_output'], df['avgcost_e'], s=15, color=\"blue\", label=\"Average Cost\")\n",
    "plt.title(\"Relação: Median Cost x Average Cost\")\n",
    "plt.annotate(\"Autor: Jonatas A. Liberato\", xy=(0.9, -0.1), xycoords='axes fraction', ha='center', fontsize=10)\n",
    "plt.legend()\n",
    "plt.show()"
   ]
  },
  {
   "cell_type": "markdown",
   "metadata": {},
   "source": [
    "> Veja que ambas possuem o mesmo comportamento quando se é ultrapassado o limite de valor 4"
   ]
  },
  {
   "cell_type": "markdown",
   "metadata": {},
   "source": [
    "#### Variáveis da R. Linear"
   ]
  },
  {
   "cell_type": "markdown",
   "metadata": {},
   "source": [
    "Vamos definir as variáveis para uma regressão linear: \n",
    "- variável `Y` representa o logaritmo natural do custo total\n",
    "- variável `X` representa uma matriz de a independentes. \n",
    "\n",
    "Nesse caso específico, a variável independente é apenas uma constante, representada pela coluna \"intercept\". O objetivo é realizar uma regressão linear simples usando o logaritmo natural do custo total como variável dependente e uma constante como variável independente."
   ]
  },
  {
   "cell_type": "code",
   "execution_count": 242,
   "metadata": {},
   "outputs": [
    {
     "data": {
      "text/html": [
       "<div>\n",
       "<style scoped>\n",
       "    .dataframe tbody tr th:only-of-type {\n",
       "        vertical-align: middle;\n",
       "    }\n",
       "\n",
       "    .dataframe tbody tr th {\n",
       "        vertical-align: top;\n",
       "    }\n",
       "\n",
       "    .dataframe thead th {\n",
       "        text-align: right;\n",
       "    }\n",
       "</style>\n",
       "<table border=\"1\" class=\"dataframe\">\n",
       "  <thead>\n",
       "    <tr style=\"text-align: right;\">\n",
       "      <th></th>\n",
       "      <th>intercept</th>\n",
       "    </tr>\n",
       "  </thead>\n",
       "  <tbody>\n",
       "    <tr>\n",
       "      <th>0</th>\n",
       "      <td>1</td>\n",
       "    </tr>\n",
       "    <tr>\n",
       "      <th>1</th>\n",
       "      <td>1</td>\n",
       "    </tr>\n",
       "    <tr>\n",
       "      <th>2</th>\n",
       "      <td>1</td>\n",
       "    </tr>\n",
       "    <tr>\n",
       "      <th>3</th>\n",
       "      <td>1</td>\n",
       "    </tr>\n",
       "    <tr>\n",
       "      <th>4</th>\n",
       "      <td>1</td>\n",
       "    </tr>\n",
       "    <tr>\n",
       "      <th>...</th>\n",
       "      <td>...</td>\n",
       "    </tr>\n",
       "    <tr>\n",
       "      <th>140</th>\n",
       "      <td>1</td>\n",
       "    </tr>\n",
       "    <tr>\n",
       "      <th>141</th>\n",
       "      <td>1</td>\n",
       "    </tr>\n",
       "    <tr>\n",
       "      <th>142</th>\n",
       "      <td>1</td>\n",
       "    </tr>\n",
       "    <tr>\n",
       "      <th>143</th>\n",
       "      <td>1</td>\n",
       "    </tr>\n",
       "    <tr>\n",
       "      <th>144</th>\n",
       "      <td>1</td>\n",
       "    </tr>\n",
       "  </tbody>\n",
       "</table>\n",
       "<p>145 rows × 1 columns</p>\n",
       "</div>"
      ],
      "text/plain": [
       "     intercept\n",
       "0            1\n",
       "1            1\n",
       "2            1\n",
       "3            1\n",
       "4            1\n",
       "..         ...\n",
       "140          1\n",
       "141          1\n",
       "142          1\n",
       "143          1\n",
       "144          1\n",
       "\n",
       "[145 rows x 1 columns]"
      ]
     },
     "execution_count": 242,
     "metadata": {},
     "output_type": "execute_result"
    }
   ],
   "source": [
    "Y = df[\"l_totcost\"] # dependente\n",
    "X = df[[\"intercept\", ]] # independente\n",
    "X"
   ]
  },
  {
   "cell_type": "code",
   "execution_count": 243,
   "metadata": {},
   "outputs": [
    {
     "name": "stdout",
     "output_type": "stream",
     "text": [
      "                            OLS Regression Results                            \n",
      "==============================================================================\n",
      "Dep. Variable:              l_totcost   R-squared:                      -0.000\n",
      "Model:                            OLS   Adj. R-squared:                 -0.000\n",
      "Method:                 Least Squares   F-statistic:                       nan\n",
      "Date:                Wed, 17 Apr 2024   Prob (F-statistic):                nan\n",
      "Time:                        08:38:08   Log-Likelihood:                -256.27\n",
      "No. Observations:                 145   AIC:                             514.5\n",
      "Df Residuals:                     144   BIC:                             517.5\n",
      "Df Model:                           0                                         \n",
      "Covariance Type:            nonrobust                                         \n",
      "==============================================================================\n",
      "                 coef    std err          t      P>|t|      [0.025      0.975]\n",
      "------------------------------------------------------------------------------\n",
      "intercept      1.7247      0.118     14.607      0.000       1.491       1.958\n",
      "==============================================================================\n",
      "Omnibus:                        4.324   Durbin-Watson:                   0.105\n",
      "Prob(Omnibus):                  0.115   Jarque-Bera (JB):                4.060\n",
      "Skew:                          -0.409   Prob(JB):                        0.131\n",
      "Kurtosis:                       3.064   Cond. No.                         1.00\n",
      "==============================================================================\n",
      "\n",
      "Notes:\n",
      "[1] Standard Errors assume that the covariance matrix of the errors is correctly specified.\n"
     ]
    }
   ],
   "source": [
    "# Estimativas:\n",
    "est = sm.OLS(Y,X)\n",
    "est2 = est.fit()\n",
    "print(est2.summary())"
   ]
  },
  {
   "cell_type": "markdown",
   "metadata": {},
   "source": [
    "Nota-se:\n",
    "\n",
    "1. O coeficiente de interceptação estimado é de aproximadamente 1.7247, com um erro padrão de 0.118. Isso significa que, quando todas as variáveis independentes são zero, espera-se que o logaritmo natural do custo total seja em torno de 1.7247.\n",
    "\n",
    "2. O R-quadrado é negativo, o que é incomum e pode indicar um problema com o modelo de regressão. Um R-quadrado negativo sugere que o modelo não se ajusta aos dados de forma alguma.\n",
    "\n",
    "3. Já para o F-statistic e Prob (F-statistic), ambos os valores estão indicados como \"nan\", o que geralmente significa que há um problema com o modelo, possivelmente devido ao R-quadrado negativo.\n",
    "\n",
    "4. O teste t para o coeficiente de interceptação é significativo, com um valor-p muito baixo (praticamente zero), o que sugere que o coeficiente de interceptação é estatisticamente diferente de zero. Isso é consistente com o valor do intervalo de confiança para o coeficiente de interceptação, que não inclui zero.\n",
    "\n",
    "Resumindo, as estimativas indicam que o modelo de regressão linear simples ajustado aos dados não é adequado, como indicado pelo R-quadrado negativo e pelos valores \"nan\" para F-statistic e Prob (F-statistic). O coeficiente de interceptação é significativamente diferente de zero, mas o modelo como um todo parece não fornecer uma boa descrição dos dados. Isso sugere que o modelo precisa ser revisto e possivelmente ajustado."
   ]
  },
  {
   "cell_type": "markdown",
   "metadata": {},
   "source": [
    "#### Teste de Hipóteses"
   ]
  },
  {
   "cell_type": "code",
   "execution_count": 244,
   "metadata": {},
   "outputs": [
    {
     "name": "stdout",
     "output_type": "stream",
     "text": [
      "                             Test for Constraints                             \n",
      "==============================================================================\n",
      "                 coef    std err          t      P>|t|      [0.025      0.975]\n",
      "------------------------------------------------------------------------------\n",
      "c0             0.6430      0.471     -0.757      0.450      -0.289       1.575\n",
      "==============================================================================\n"
     ]
    }
   ],
   "source": [
    "# Definir a fórmula correta incluindo todas as variáveis independentes\n",
    "formula = 'l_totcost ~ intercept + l_output + l_plabor + l_pfuel + l_pkap'\n",
    "\n",
    "# Ajustar o modelo de regressão linear\n",
    "results = ols(formula, df).fit()\n",
    "\n",
    "# Realizar o teste de hipótese\n",
    "hipotese = 'l_plabor + l_pfuel + l_pkap = 1'\n",
    "t_test = results.t_test(hipotese)\n",
    "print(t_test)"
   ]
  },
  {
   "cell_type": "markdown",
   "metadata": {},
   "source": [
    "Com base no resultado do teste de hipótese:\n",
    "\n",
    "- O coeficiente associado à restrição (`c0`) é estimado em 0.6430\n",
    "\n",
    "- O erro padrão associado à estimativa do coeficiente é de 0.471\n",
    "\n",
    "- O valor da estatística `t` associada ao coeficiente é -0.757\n",
    "\n",
    "- O valor P associado à estatística `t` é 0.450\n",
    "\n",
    "- O intervalo de confiança de 95% para o coeficiente vai de -0.289 a 1.575.\n",
    "\n",
    "Com base nessas informações, podemos concluir que o coeficiente estimado para a restrição não é estatisticamente significativo, pois o valor P é maior que o nível de significância usual de 0.05. Isso sugere que não há evidências suficientes para rejeitar a hipótese nula de que a soma dos coeficientes das variáveis independentes é igual a 1."
   ]
  },
  {
   "cell_type": "markdown",
   "metadata": {},
   "source": [
    "### Estimativa usando o intercept"
   ]
  },
  {
   "cell_type": "code",
   "execution_count": 245,
   "metadata": {},
   "outputs": [
    {
     "name": "stdout",
     "output_type": "stream",
     "text": [
      "                            OLS Regression Results                            \n",
      "==============================================================================\n",
      "Dep. Variable:              l_totcost   R-squared:                       0.926\n",
      "Model:                            OLS   Adj. R-squared:                  0.924\n",
      "Method:                 Least Squares   F-statistic:                     437.7\n",
      "Date:                Wed, 17 Apr 2024   Prob (F-statistic):           4.82e-78\n",
      "Time:                        08:38:09   Log-Likelihood:                -67.542\n",
      "No. Observations:                 145   AIC:                             145.1\n",
      "Df Residuals:                     140   BIC:                             160.0\n",
      "Df Model:                           4                                         \n",
      "Covariance Type:            nonrobust                                         \n",
      "==============================================================================\n",
      "                 coef    std err          t      P>|t|      [0.025      0.975]\n",
      "------------------------------------------------------------------------------\n",
      "intercept     -3.5265      1.774     -1.987      0.049      -7.035      -0.018\n",
      "l_output       0.7204      0.017     41.244      0.000       0.686       0.755\n",
      "l_plabor       0.4363      0.291      1.499      0.136      -0.139       1.012\n",
      "l_pfuel        0.4265      0.100      4.249      0.000       0.228       0.625\n",
      "l_pkap        -0.2199      0.339     -0.648      0.518      -0.891       0.451\n",
      "==============================================================================\n",
      "Omnibus:                       51.403   Durbin-Watson:                   1.013\n",
      "Prob(Omnibus):                  0.000   Jarque-Bera (JB):              175.700\n",
      "Skew:                           1.303   Prob(JB):                     7.03e-39\n",
      "Kurtosis:                       7.721   Cond. No.                         506.\n",
      "==============================================================================\n",
      "\n",
      "Notes:\n",
      "[1] Standard Errors assume that the covariance matrix of the errors is correctly specified.\n"
     ]
    }
   ],
   "source": [
    "Y2 = df[\"l_totcost\"]\n",
    "X2 = df[[\"intercept\", \"l_output\", \"l_plabor\", \"l_pfuel\", \"l_pkap\"]]\n",
    "est2 = sm.OLS(Y2, X2).fit()\n",
    "print(est2.summary())"
   ]
  },
  {
   "cell_type": "markdown",
   "metadata": {},
   "source": [
    "# FIM"
   ]
  }
 ],
 "metadata": {
  "kernelspec": {
   "display_name": "Python 3",
   "language": "python",
   "name": "python3"
  },
  "language_info": {
   "codemirror_mode": {
    "name": "ipython",
    "version": 3
   },
   "file_extension": ".py",
   "mimetype": "text/x-python",
   "name": "python",
   "nbconvert_exporter": "python",
   "pygments_lexer": "ipython3",
   "version": "3.12.3"
  }
 },
 "nbformat": 4,
 "nbformat_minor": 2
}
